{
  "nbformat": 4,
  "nbformat_minor": 0,
  "metadata": {
    "colab": {
      "provenance": [],
      "include_colab_link": true
    },
    "kernelspec": {
      "name": "python3",
      "display_name": "Python 3"
    },
    "language_info": {
      "name": "python"
    }
  },
  "cells": [
    {
      "cell_type": "markdown",
      "metadata": {
        "id": "view-in-github",
        "colab_type": "text"
      },
      "source": [
        "<a href=\"https://colab.research.google.com/github/josephananda/GenAI_in_Finance/blob/main/Generative_AI_Workshop_(Modified).ipynb\" target=\"_parent\"><img src=\"https://colab.research.google.com/assets/colab-badge.svg\" alt=\"Open In Colab\"/></a>"
      ]
    },
    {
      "cell_type": "markdown",
      "source": [
        "Name: Joseph Ananda Sugihdharma\n",
        "\n",
        "Email: jose"
      ],
      "metadata": {
        "id": "A8riQu8LbXOn"
      }
    },
    {
      "cell_type": "code",
      "source": [
        "# Import Necessary Libraries\n",
        "!pip install langchain\n",
        "!pip install langchain-groq\n",
        "\n",
        "import os\n",
        "import json\n",
        "import requests\n",
        "from langchain_core.tools import tool\n",
        "from langchain_core.prompts import ChatPromptTemplate, MessagesPlaceholder\n",
        "from langchain_groq import ChatGroq\n",
        "from langchain.agents import create_tool_calling_agent, AgentExecutor"
      ],
      "metadata": {
        "colab": {
          "base_uri": "https://localhost:8080/"
        },
        "collapsed": true,
        "id": "i_SdqPeOZkH1",
        "outputId": "aeeec238-e64e-4f7d-fdca-9884a7a8e3b4"
      },
      "execution_count": 21,
      "outputs": [
        {
          "output_type": "stream",
          "name": "stdout",
          "text": [
            "Requirement already satisfied: langchain in /usr/local/lib/python3.10/dist-packages (0.2.11)\n",
            "Requirement already satisfied: PyYAML>=5.3 in /usr/local/lib/python3.10/dist-packages (from langchain) (6.0.1)\n",
            "Requirement already satisfied: SQLAlchemy<3,>=1.4 in /usr/local/lib/python3.10/dist-packages (from langchain) (2.0.31)\n",
            "Requirement already satisfied: aiohttp<4.0.0,>=3.8.3 in /usr/local/lib/python3.10/dist-packages (from langchain) (3.9.5)\n",
            "Requirement already satisfied: async-timeout<5.0.0,>=4.0.0 in /usr/local/lib/python3.10/dist-packages (from langchain) (4.0.3)\n",
            "Requirement already satisfied: langchain-core<0.3.0,>=0.2.23 in /usr/local/lib/python3.10/dist-packages (from langchain) (0.2.25)\n",
            "Requirement already satisfied: langchain-text-splitters<0.3.0,>=0.2.0 in /usr/local/lib/python3.10/dist-packages (from langchain) (0.2.2)\n",
            "Requirement already satisfied: langsmith<0.2.0,>=0.1.17 in /usr/local/lib/python3.10/dist-packages (from langchain) (0.1.94)\n",
            "Requirement already satisfied: numpy<2,>=1 in /usr/local/lib/python3.10/dist-packages (from langchain) (1.26.4)\n",
            "Requirement already satisfied: pydantic<3,>=1 in /usr/local/lib/python3.10/dist-packages (from langchain) (2.8.2)\n",
            "Requirement already satisfied: requests<3,>=2 in /usr/local/lib/python3.10/dist-packages (from langchain) (2.31.0)\n",
            "Requirement already satisfied: tenacity!=8.4.0,<9.0.0,>=8.1.0 in /usr/local/lib/python3.10/dist-packages (from langchain) (8.5.0)\n",
            "Requirement already satisfied: aiosignal>=1.1.2 in /usr/local/lib/python3.10/dist-packages (from aiohttp<4.0.0,>=3.8.3->langchain) (1.3.1)\n",
            "Requirement already satisfied: attrs>=17.3.0 in /usr/local/lib/python3.10/dist-packages (from aiohttp<4.0.0,>=3.8.3->langchain) (23.2.0)\n",
            "Requirement already satisfied: frozenlist>=1.1.1 in /usr/local/lib/python3.10/dist-packages (from aiohttp<4.0.0,>=3.8.3->langchain) (1.4.1)\n",
            "Requirement already satisfied: multidict<7.0,>=4.5 in /usr/local/lib/python3.10/dist-packages (from aiohttp<4.0.0,>=3.8.3->langchain) (6.0.5)\n",
            "Requirement already satisfied: yarl<2.0,>=1.0 in /usr/local/lib/python3.10/dist-packages (from aiohttp<4.0.0,>=3.8.3->langchain) (1.9.4)\n",
            "Requirement already satisfied: jsonpatch<2.0,>=1.33 in /usr/local/lib/python3.10/dist-packages (from langchain-core<0.3.0,>=0.2.23->langchain) (1.33)\n",
            "Requirement already satisfied: packaging<25,>=23.2 in /usr/local/lib/python3.10/dist-packages (from langchain-core<0.3.0,>=0.2.23->langchain) (24.1)\n",
            "Requirement already satisfied: orjson<4.0.0,>=3.9.14 in /usr/local/lib/python3.10/dist-packages (from langsmith<0.2.0,>=0.1.17->langchain) (3.10.6)\n",
            "Requirement already satisfied: annotated-types>=0.4.0 in /usr/local/lib/python3.10/dist-packages (from pydantic<3,>=1->langchain) (0.7.0)\n",
            "Requirement already satisfied: pydantic-core==2.20.1 in /usr/local/lib/python3.10/dist-packages (from pydantic<3,>=1->langchain) (2.20.1)\n",
            "Requirement already satisfied: typing-extensions>=4.6.1 in /usr/local/lib/python3.10/dist-packages (from pydantic<3,>=1->langchain) (4.12.2)\n",
            "Requirement already satisfied: charset-normalizer<4,>=2 in /usr/local/lib/python3.10/dist-packages (from requests<3,>=2->langchain) (3.3.2)\n",
            "Requirement already satisfied: idna<4,>=2.5 in /usr/local/lib/python3.10/dist-packages (from requests<3,>=2->langchain) (3.7)\n",
            "Requirement already satisfied: urllib3<3,>=1.21.1 in /usr/local/lib/python3.10/dist-packages (from requests<3,>=2->langchain) (2.0.7)\n",
            "Requirement already satisfied: certifi>=2017.4.17 in /usr/local/lib/python3.10/dist-packages (from requests<3,>=2->langchain) (2024.7.4)\n",
            "Requirement already satisfied: greenlet!=0.4.17 in /usr/local/lib/python3.10/dist-packages (from SQLAlchemy<3,>=1.4->langchain) (3.0.3)\n",
            "Requirement already satisfied: jsonpointer>=1.9 in /usr/local/lib/python3.10/dist-packages (from jsonpatch<2.0,>=1.33->langchain-core<0.3.0,>=0.2.23->langchain) (3.0.0)\n",
            "Requirement already satisfied: langchain-groq in /usr/local/lib/python3.10/dist-packages (0.1.8)\n",
            "Requirement already satisfied: groq<1,>=0.4.1 in /usr/local/lib/python3.10/dist-packages (from langchain-groq) (0.9.0)\n",
            "Requirement already satisfied: langchain-core<0.3,>=0.2.24 in /usr/local/lib/python3.10/dist-packages (from langchain-groq) (0.2.25)\n",
            "Requirement already satisfied: anyio<5,>=3.5.0 in /usr/local/lib/python3.10/dist-packages (from groq<1,>=0.4.1->langchain-groq) (3.7.1)\n",
            "Requirement already satisfied: distro<2,>=1.7.0 in /usr/lib/python3/dist-packages (from groq<1,>=0.4.1->langchain-groq) (1.7.0)\n",
            "Requirement already satisfied: httpx<1,>=0.23.0 in /usr/local/lib/python3.10/dist-packages (from groq<1,>=0.4.1->langchain-groq) (0.27.0)\n",
            "Requirement already satisfied: pydantic<3,>=1.9.0 in /usr/local/lib/python3.10/dist-packages (from groq<1,>=0.4.1->langchain-groq) (2.8.2)\n",
            "Requirement already satisfied: sniffio in /usr/local/lib/python3.10/dist-packages (from groq<1,>=0.4.1->langchain-groq) (1.3.1)\n",
            "Requirement already satisfied: typing-extensions<5,>=4.7 in /usr/local/lib/python3.10/dist-packages (from groq<1,>=0.4.1->langchain-groq) (4.12.2)\n",
            "Requirement already satisfied: PyYAML>=5.3 in /usr/local/lib/python3.10/dist-packages (from langchain-core<0.3,>=0.2.24->langchain-groq) (6.0.1)\n",
            "Requirement already satisfied: jsonpatch<2.0,>=1.33 in /usr/local/lib/python3.10/dist-packages (from langchain-core<0.3,>=0.2.24->langchain-groq) (1.33)\n",
            "Requirement already satisfied: langsmith<0.2.0,>=0.1.75 in /usr/local/lib/python3.10/dist-packages (from langchain-core<0.3,>=0.2.24->langchain-groq) (0.1.94)\n",
            "Requirement already satisfied: packaging<25,>=23.2 in /usr/local/lib/python3.10/dist-packages (from langchain-core<0.3,>=0.2.24->langchain-groq) (24.1)\n",
            "Requirement already satisfied: tenacity!=8.4.0,<9.0.0,>=8.1.0 in /usr/local/lib/python3.10/dist-packages (from langchain-core<0.3,>=0.2.24->langchain-groq) (8.5.0)\n",
            "Requirement already satisfied: idna>=2.8 in /usr/local/lib/python3.10/dist-packages (from anyio<5,>=3.5.0->groq<1,>=0.4.1->langchain-groq) (3.7)\n",
            "Requirement already satisfied: exceptiongroup in /usr/local/lib/python3.10/dist-packages (from anyio<5,>=3.5.0->groq<1,>=0.4.1->langchain-groq) (1.2.2)\n",
            "Requirement already satisfied: certifi in /usr/local/lib/python3.10/dist-packages (from httpx<1,>=0.23.0->groq<1,>=0.4.1->langchain-groq) (2024.7.4)\n",
            "Requirement already satisfied: httpcore==1.* in /usr/local/lib/python3.10/dist-packages (from httpx<1,>=0.23.0->groq<1,>=0.4.1->langchain-groq) (1.0.5)\n",
            "Requirement already satisfied: h11<0.15,>=0.13 in /usr/local/lib/python3.10/dist-packages (from httpcore==1.*->httpx<1,>=0.23.0->groq<1,>=0.4.1->langchain-groq) (0.14.0)\n",
            "Requirement already satisfied: jsonpointer>=1.9 in /usr/local/lib/python3.10/dist-packages (from jsonpatch<2.0,>=1.33->langchain-core<0.3,>=0.2.24->langchain-groq) (3.0.0)\n",
            "Requirement already satisfied: orjson<4.0.0,>=3.9.14 in /usr/local/lib/python3.10/dist-packages (from langsmith<0.2.0,>=0.1.75->langchain-core<0.3,>=0.2.24->langchain-groq) (3.10.6)\n",
            "Requirement already satisfied: requests<3,>=2 in /usr/local/lib/python3.10/dist-packages (from langsmith<0.2.0,>=0.1.75->langchain-core<0.3,>=0.2.24->langchain-groq) (2.31.0)\n",
            "Requirement already satisfied: annotated-types>=0.4.0 in /usr/local/lib/python3.10/dist-packages (from pydantic<3,>=1.9.0->groq<1,>=0.4.1->langchain-groq) (0.7.0)\n",
            "Requirement already satisfied: pydantic-core==2.20.1 in /usr/local/lib/python3.10/dist-packages (from pydantic<3,>=1.9.0->groq<1,>=0.4.1->langchain-groq) (2.20.1)\n",
            "Requirement already satisfied: charset-normalizer<4,>=2 in /usr/local/lib/python3.10/dist-packages (from requests<3,>=2->langsmith<0.2.0,>=0.1.75->langchain-core<0.3,>=0.2.24->langchain-groq) (3.3.2)\n",
            "Requirement already satisfied: urllib3<3,>=1.21.1 in /usr/local/lib/python3.10/dist-packages (from requests<3,>=2->langsmith<0.2.0,>=0.1.75->langchain-core<0.3,>=0.2.24->langchain-groq) (2.0.7)\n"
          ]
        }
      ]
    },
    {
      "cell_type": "code",
      "execution_count": 22,
      "metadata": {
        "id": "l8hnoAwIU7s9"
      },
      "outputs": [],
      "source": [
        "# Import API Key\n",
        "from google.colab import userdata\n",
        "\n",
        "SECTORS_API_KEY = userdata.get('SECTORS_API_KEY')\n",
        "GROQ_API_KEY = userdata.get('GROQ_API_KEY')"
      ]
    },
    {
      "cell_type": "markdown",
      "source": [
        "### Warm up\n",
        "Here's a quick warm-up exercise. Below, we're using one of the [endpoints available at Sectors API](https://docs.sectors.app) to make our first HTTP request.  "
      ],
      "metadata": {
        "id": "vuLUMdjXaa-P"
      }
    },
    {
      "cell_type": "code",
      "source": [
        "# Sample Endpoint Calls\n",
        "\n",
        "import requests\n",
        "import pprint\n",
        "\n",
        "headers = {\n",
        "    \"Authorization\": SECTORS_API_KEY\n",
        "}\n",
        "\n",
        "\n",
        "def get_overview(stock:str, section:str) -> requests:\n",
        "    url = f\"https://api.sectors.app/v1/company/report/{stock}/?sections={section}\"\n",
        "    response = requests.get(url, headers=headers)\n",
        "    return response\n",
        "\n",
        "\n",
        "response = get_overview(\"BBCA\", \"financials\")\n",
        "pprint.pprint(response.json())"
      ],
      "metadata": {
        "colab": {
          "base_uri": "https://localhost:8080/"
        },
        "id": "j9SUZx-2Zhi-",
        "outputId": "b14c6637-7795-4654-b3d1-c6d915027173"
      },
      "execution_count": 23,
      "outputs": [
        {
          "output_type": "stream",
          "name": "stdout",
          "text": [
            "{'company_name': 'PT Bank Central Asia Tbk.',\n",
            " 'financials': {'cash_flow_debt_ratio': 4.305466746529966,\n",
            "                'dar_mrq': 0.0095859653450628,\n",
            "                'der_mrq': 0.0556534961571916,\n",
            "                'historical_financials': [{'cash_and_equivalents': None,\n",
            "                                           'cash_only': None,\n",
            "                                           'current_liabilities': None,\n",
            "                                           'earnings': 25855154000000,\n",
            "                                           'earnings_before_tax': 32706064000000,\n",
            "                                           'fixed_assets': None,\n",
            "                                           'gross_profit': None,\n",
            "                                           'operating_pnl': 32512504000000,\n",
            "                                           'revenue': 63028090000000,\n",
            "                                           'tax': 6854404000000,\n",
            "                                           'total_assets': 824787944000000,\n",
            "                                           'total_cash_and_due_from_banks': 65239752000000,\n",
            "                                           'total_debt': 9375812000000,\n",
            "                                           'total_equity': 151753427000000,\n",
            "                                           'total_liabilities': 673034517000000,\n",
            "                                           'year': 2018},\n",
            "                                          {'cash_and_equivalents': None,\n",
            "                                           'cash_only': None,\n",
            "                                           'current_liabilities': None,\n",
            "                                           'earnings': 28565053000000,\n",
            "                                           'earnings_before_tax': 36288998000000,\n",
            "                                           'fixed_assets': None,\n",
            "                                           'gross_profit': None,\n",
            "                                           'operating_pnl': 36300870000000,\n",
            "                                           'revenue': 71602009000000,\n",
            "                                           'tax': 7719024000000,\n",
            "                                           'total_assets': 918989312000000,\n",
            "                                           'total_cash_and_due_from_banks': 99639894000000,\n",
            "                                           'total_debt': 11011116000000,\n",
            "                                           'total_equity': 174143156000000,\n",
            "                                           'total_liabilities': 744846156000000,\n",
            "                                           'year': 2019},\n",
            "                                          {'cash_and_equivalents': None,\n",
            "                                           'cash_only': None,\n",
            "                                           'current_liabilities': None,\n",
            "                                           'earnings': 27131109000000,\n",
            "                                           'earnings_before_tax': 33568507000000,\n",
            "                                           'fixed_assets': None,\n",
            "                                           'gross_profit': None,\n",
            "                                           'operating_pnl': 33570282000000,\n",
            "                                           'revenue': 72867812000000,\n",
            "                                           'tax': 6421398000000,\n",
            "                                           'total_assets': 1075570256000000,\n",
            "                                           'total_cash_and_due_from_banks': 90206272000000,\n",
            "                                           'total_debt': 12881754000000,\n",
            "                                           'total_equity': 184714709000000,\n",
            "                                           'total_liabilities': 890855547000000,\n",
            "                                           'year': 2020},\n",
            "                                          {'cash_and_equivalents': None,\n",
            "                                           'cash_only': None,\n",
            "                                           'current_liabilities': None,\n",
            "                                           'earnings': 31422660000000,\n",
            "                                           'earnings_before_tax': 38841174000000,\n",
            "                                           'fixed_assets': None,\n",
            "                                           'gross_profit': None,\n",
            "                                           'operating_pnl': 38921015000000,\n",
            "                                           'revenue': 78130281000000,\n",
            "                                           'tax': 7401015000000,\n",
            "                                           'total_assets': 1228344680000000,\n",
            "                                           'total_cash_and_due_from_banks': 158631551000000,\n",
            "                                           'total_debt': 12384014000000,\n",
            "                                           'total_equity': 202848934000000,\n",
            "                                           'total_liabilities': 1025495746000000,\n",
            "                                           'year': 2021},\n",
            "                                          {'cash_and_equivalents': None,\n",
            "                                           'cash_only': None,\n",
            "                                           'current_liabilities': None,\n",
            "                                           'earnings': 40735722000000,\n",
            "                                           'earnings_before_tax': 50467033000000,\n",
            "                                           'fixed_assets': None,\n",
            "                                           'gross_profit': None,\n",
            "                                           'operating_pnl': 50482669000000,\n",
            "                                           'revenue': 88981034000000,\n",
            "                                           'tax': 9711461000000,\n",
            "                                           'total_assets': 1314731674000000,\n",
            "                                           'total_cash_and_due_from_banks': 144146172000000,\n",
            "                                           'total_debt': 10298288000000,\n",
            "                                           'total_equity': 221181655000000,\n",
            "                                           'total_liabilities': 1093550019000000,\n",
            "                                           'year': 2022},\n",
            "                                          {'cash_and_equivalents': None,\n",
            "                                           'cash_only': 125135233000000,\n",
            "                                           'current_liabilities': None,\n",
            "                                           'earnings': 48639122000000,\n",
            "                                           'earnings_before_tax': 60179757000000,\n",
            "                                           'fixed_assets': None,\n",
            "                                           'gross_profit': None,\n",
            "                                           'operating_pnl': None,\n",
            "                                           'revenue': 101914664000000,\n",
            "                                           'tax': 11521662000000,\n",
            "                                           'total_assets': 1408107010000000,\n",
            "                                           'total_cash_and_due_from_banks': 115070426000000,\n",
            "                                           'total_debt': 13498065000000,\n",
            "                                           'total_equity': 242537593000000,\n",
            "                                           'total_liabilities': 1165569417000000,\n",
            "                                           'year': 2023}],\n",
            "                'interest_coverage_ratio': None,\n",
            "                'net_profit_margin': 0.4772534205676231,\n",
            "                'roa_ttm': 0.03454220570920956,\n",
            "                'roe_ttm': 0.20054261031608409,\n",
            "                'yoy_quarter_earnings_growth': 0.0371428651459504,\n",
            "                'yoy_quarter_revenue_growth': 0.0632682758756423},\n",
            " 'symbol': 'BBCA.JK'}\n"
          ]
        }
      ]
    },
    {
      "cell_type": "code",
      "source": [],
      "metadata": {
        "id": "ENAEwetYaHkO"
      },
      "execution_count": 23,
      "outputs": []
    },
    {
      "cell_type": "markdown",
      "source": [
        "### Self Assessment\n",
        "\n",
        "Complete **any one of the following two** exercises to get a certificate.\n",
        "\n"
      ],
      "metadata": {
        "id": "TzeEj1zJb646"
      }
    },
    {
      "cell_type": "markdown",
      "source": [
        "# Exercise 1\n",
        "Modify and improve the orchestration script below. Here are some things you might want to try:\n",
        "\n",
        "\n",
        "\n",
        "*   Sam says [the `llama3-groq-70b-8192-tool-use-preview`](https://console.groq.com/docs/models) is a superior model specialized in tool use and function calling tasks. It might be worth swapping in that model.\n",
        "*   Could the system prompt be improved?\n",
        "*   Could the docstring in that tool be improved?\n",
        "\n"
      ],
      "metadata": {
        "id": "XgnNBwUzxuIX"
      }
    },
    {
      "cell_type": "code",
      "source": [
        "from langchain_core.tools import tool\n",
        "\n",
        "def get_today_date() -> str:\n",
        "    \"\"\"\n",
        "    New function to get today's date (In order to improve the model understanding of dates)\n",
        "    \"\"\"\n",
        "    from datetime import date\n",
        "\n",
        "    today = date.today()\n",
        "    return today.strftime(\"%Y-%m-%d\")\n",
        "\n",
        "def retrieve_from_endpoint(url: str) -> dict:\n",
        "    headers = {\"Authorization\": SECTORS_API_KEY}\n",
        "\n",
        "    try:\n",
        "        response = requests.get(url, headers=headers)\n",
        "        response.raise_for_status()\n",
        "        data = response.json()\n",
        "    except requests.exceptions.HTTPError as err:\n",
        "        raise SystemExit(err)\n",
        "    return json.dumps(data)\n",
        "\n",
        "\n",
        "@tool\n",
        "def get_top_companies_by_tx_volume(\n",
        "    start_date: str, end_date: str, top_n: int = 5\n",
        ") -> str:\n",
        "    \"\"\"\n",
        "    Get top companies by transaction volume.\n",
        "    Return the data of stock symbol, the company name, traded volume, and the stock price of the specified date.\n",
        "    \"\"\"\n",
        "    url = f\"https://api.sectors.app/v1/most-traded/?start={start_date}&end={end_date}&n_stock={top_n}\"\n",
        "\n",
        "    return retrieve_from_endpoint(url)\n",
        "\n",
        "tools = [get_top_companies_by_tx_volume]\n",
        "llm = ChatGroq(\n",
        "    temperature=0,\n",
        "    model_name=\"llama3-groq-70b-8192-tool-use-preview\",\n",
        "    groq_api_key=GROQ_API_KEY,\n",
        ")\n",
        "\n",
        "prompt = ChatPromptTemplate.from_messages(\n",
        "    [\n",
        "        (\n",
        "            \"system\",\n",
        "            \"\"\"\n",
        "            Answer the following queries, being as factual and analytical as you can.\n",
        "            If you need the start and end dates but they are not explicitly provided,\n",
        "            infer from the query. If the volume was about a single day,\n",
        "            the start and end parameter should be the same.\n",
        "            If there's no data today since the market hasn't open today, take the data from yesterday.\n",
        "            The minimum amount of top n chosen stocks is 1.\n",
        "            Today's date is\n",
        "            \"\"\"\n",
        "            + get_today_date(),\n",
        "        ),\n",
        "        (\"human\", \"{input}\"),\n",
        "        # msg containing previous agent tool invocations and corresponding tool outputs\n",
        "        MessagesPlaceholder(\"agent_scratchpad\"),\n",
        "    ]\n",
        ")\n",
        "agent = create_tool_calling_agent(llm, tools, prompt)\n",
        "agent_executor = AgentExecutor(agent=agent, tools=tools, verbose=True)\n",
        "\n",
        "query = \"What are the top 3 companies by transaction volume over the last 7 days?\"\n",
        "result = agent_executor.invoke({\"input\": query})\n",
        "print(\"Answer:\", \"\\n\", result[\"output\"], \"\\n\\n======\\n\\n\")"
      ],
      "metadata": {
        "colab": {
          "base_uri": "https://localhost:8080/"
        },
        "id": "vB4AL8uogxcn",
        "outputId": "e45e704f-4e98-48e1-f88b-76e15b309cac"
      },
      "execution_count": 101,
      "outputs": [
        {
          "output_type": "stream",
          "name": "stdout",
          "text": [
            "\n",
            "\n",
            "\u001b[1m> Entering new AgentExecutor chain...\u001b[0m\n",
            "\u001b[32;1m\u001b[1;3m\n",
            "Invoking: `get_top_companies_by_tx_volume` with `{'start_date': '2024-07-24', 'end_date': '2024-07-31', 'top_n': 3}`\n",
            "\n",
            "\n",
            "\u001b[0m\u001b[36;1m\u001b[1;3m{\"2024-07-24\": [{\"symbol\": \"GOTO.JK\", \"company_name\": \"PT GoTo Gojek Tokopedia Tbk\", \"volume\": 2660984600, \"price\": 54}, {\"symbol\": \"BSBK.JK\", \"company_name\": \"PT Wulandari Bangun Laksana Tbk\", \"volume\": 1833364900, \"price\": 83}, {\"symbol\": \"DOOH.JK\", \"company_name\": \"PT Era Media Sejahtera Tbk\", \"volume\": 511754100, \"price\": 53}], \"2024-07-25\": [{\"symbol\": \"BSBK.JK\", \"company_name\": \"PT Wulandari Bangun Laksana Tbk\", \"volume\": 1513766400, \"price\": 76}, {\"symbol\": \"GOTO.JK\", \"company_name\": \"PT GoTo Gojek Tokopedia Tbk\", \"volume\": 911091700, \"price\": 54}, {\"symbol\": \"BBKP.JK\", \"company_name\": \"PT Bank KB Bukopin Tbk\", \"volume\": 432596400, \"price\": 56}], \"2024-07-26\": [{\"symbol\": \"BSBK.JK\", \"company_name\": \"PT Wulandari Bangun Laksana Tbk\", \"volume\": 2408506000, \"price\": 72}, {\"symbol\": \"GOTO.JK\", \"company_name\": \"PT GoTo Gojek Tokopedia Tbk\", \"volume\": 913457100, \"price\": 53}, {\"symbol\": \"MSJA.JK\", \"company_name\": \"PT Multi Spunindo Jaya Tbk.\", \"volume\": 450977300, \"price\": 342}], \"2024-07-29\": [{\"symbol\": \"GOTO.JK\", \"company_name\": \"PT GoTo Gojek Tokopedia Tbk\", \"volume\": 1621366300, \"price\": 54}, {\"symbol\": \"ATLA.JK\", \"company_name\": \"PT Atlantis Subsea Indonesia Tbk\", \"volume\": 1255103900, \"price\": 50}, {\"symbol\": \"BSBK.JK\", \"company_name\": \"PT Wulandari Bangun Laksana Tbk\", \"volume\": 754254000, \"price\": 69}], \"2024-07-30\": [{\"symbol\": \"GOTO.JK\", \"company_name\": \"PT GoTo Gojek Tokopedia Tbk\", \"volume\": 1223172300, \"price\": 55}, {\"symbol\": \"BSBK.JK\", \"company_name\": \"PT Wulandari Bangun Laksana Tbk\", \"volume\": 792338900, \"price\": 69}, {\"symbol\": \"BIPI.JK\", \"company_name\": \"PT Astrindo Nusantara Infrastruktur Tbk.\", \"volume\": 629061500, \"price\": 59}], \"2024-07-31\": [{\"symbol\": \"GOTO.JK\", \"company_name\": \"PT GoTo Gojek Tokopedia Tbk\", \"volume\": 2829429300, \"price\": 53}, {\"symbol\": \"BIPI.JK\", \"company_name\": \"PT Astrindo Nusantara Infrastruktur Tbk.\", \"volume\": 555588600, \"price\": 61}, {\"symbol\": \"BUKA.JK\", \"company_name\": \"PT Bukalapak.com Tbk\", \"volume\": 542254600, \"price\": 118}]}\u001b[0m\u001b[32;1m\u001b[1;3mThe top 3 companies by transaction volume over the last 7 days are PT GoTo Gojek Tokopedia Tbk, PT Wulandari Bangun Laksana Tbk, and PT Astrindo Nusantara Infrastruktur Tbk.\u001b[0m\n",
            "\n",
            "\u001b[1m> Finished chain.\u001b[0m\n",
            "Answer: \n",
            " The top 3 companies by transaction volume over the last 7 days are PT GoTo Gojek Tokopedia Tbk, PT Wulandari Bangun Laksana Tbk, and PT Astrindo Nusantara Infrastruktur Tbk. \n",
            "\n",
            "======\n",
            "\n",
            "\n"
          ]
        }
      ]
    },
    {
      "cell_type": "markdown",
      "source": [
        "If you'd like another level of challenge, try and apply your tool-calling LLM model on the following, arguably more challenging, queries.\n",
        "\n",
        "You need to successfully execute this exercise with these 3 queries returning correct results to be considered successful at this challenge!"
      ],
      "metadata": {
        "id": "aMeT2m5EMJM8"
      }
    },
    {
      "cell_type": "code",
      "source": [
        "queries = [\n",
        "    \"What are the top 5 companies by transaction volume on the first of this month?\",\n",
        "    \"What are the most traded stock yesterday?\",\n",
        "    \"What are the top 7 most traded stocks between 6th June to 10th June this year?\"\n",
        "]\n",
        "\n",
        "for query in queries:\n",
        "    print(\"Question:\", query)\n",
        "    result = agent_executor.invoke({\"input\": query})\n",
        "    print(\"Answer:\", \"\\n\", result[\"output\"], \"\\n\\n======\\n\\n\")"
      ],
      "metadata": {
        "id": "TWLSMUJP0BjH",
        "colab": {
          "base_uri": "https://localhost:8080/"
        },
        "outputId": "2c20df72-57e1-48e6-8328-7836750ced2f"
      },
      "execution_count": 102,
      "outputs": [
        {
          "output_type": "stream",
          "name": "stdout",
          "text": [
            "Question: What are the top 5 companies by transaction volume on the first of this month?\n",
            "\n",
            "\n",
            "\u001b[1m> Entering new AgentExecutor chain...\u001b[0m\n",
            "\u001b[32;1m\u001b[1;3m\n",
            "Invoking: `get_top_companies_by_tx_volume` with `{'start_date': '2024-07-01', 'end_date': '2024-07-01', 'top_n': 5}`\n",
            "\n",
            "\n",
            "\u001b[0m\u001b[36;1m\u001b[1;3m{\"2024-07-01\": [{\"symbol\": \"BRPT.JK\", \"company_name\": \"Barito Pacific Tbk\", \"volume\": 468215600, \"price\": 1130}, {\"symbol\": \"GOTO.JK\", \"company_name\": \"PT GoTo Gojek Tokopedia Tbk\", \"volume\": 452005800, \"price\": 50}, {\"symbol\": \"TOSK.JK\", \"company_name\": \"PT Topindo Solusi Komunika Tbk.\", \"volume\": 442612100, \"price\": 61}, {\"symbol\": \"BULL.JK\", \"company_name\": \"PT Buana Lintas Lautan Tbk.\", \"volume\": 370373200, \"price\": 141}, {\"symbol\": \"TOPS.JK\", \"company_name\": \"PT Totalindo Eka Persada Tbk.\", \"volume\": 368219800, \"price\": 1}]}\u001b[0m\u001b[32;1m\u001b[1;3mThe top 5 companies by transaction volume on the first of this month are:\n",
            "1. Barito Pacific Tbk with a volume of 468,215,600.\n",
            "2. PT GoTo Gojek Tokopedia Tbk with a volume of 452,005,800.\n",
            "3. PT Topindo Solusi Komunika Tbk. with a volume of 442,612,100.\n",
            "4. PT Buana Lintas Lautan Tbk. with a volume of 370,373,200.\n",
            "5. PT Totalindo Eka Persada Tbk. with a volume of 368,219,800.\u001b[0m\n",
            "\n",
            "\u001b[1m> Finished chain.\u001b[0m\n",
            "Answer: \n",
            " The top 5 companies by transaction volume on the first of this month are:\n",
            "1. Barito Pacific Tbk with a volume of 468,215,600.\n",
            "2. PT GoTo Gojek Tokopedia Tbk with a volume of 452,005,800.\n",
            "3. PT Topindo Solusi Komunika Tbk. with a volume of 442,612,100.\n",
            "4. PT Buana Lintas Lautan Tbk. with a volume of 370,373,200.\n",
            "5. PT Totalindo Eka Persada Tbk. with a volume of 368,219,800. \n",
            "\n",
            "======\n",
            "\n",
            "\n",
            "Question: What are the most traded stock yesterday?\n",
            "\n",
            "\n",
            "\u001b[1m> Entering new AgentExecutor chain...\u001b[0m\n",
            "\u001b[32;1m\u001b[1;3m\n",
            "Invoking: `get_top_companies_by_tx_volume` with `{'start_date': '2024-07-30', 'end_date': '2024-07-30', 'top_n': 1}`\n",
            "\n",
            "\n",
            "\u001b[0m\u001b[36;1m\u001b[1;3m{\"2024-07-30\": [{\"symbol\": \"GOTO.JK\", \"company_name\": \"PT GoTo Gojek Tokopedia Tbk\", \"volume\": 1223172300, \"price\": 55}]}\u001b[0m\u001b[32;1m\u001b[1;3mThe most traded stock yesterday was PT GoTo Gojek Tokopedia Tbk with a volume of 1,223,172,300.\u001b[0m\n",
            "\n",
            "\u001b[1m> Finished chain.\u001b[0m\n",
            "Answer: \n",
            " The most traded stock yesterday was PT GoTo Gojek Tokopedia Tbk with a volume of 1,223,172,300. \n",
            "\n",
            "======\n",
            "\n",
            "\n",
            "Question: What are the top 7 most traded stocks between 6th June to 10th June this year?\n",
            "\n",
            "\n",
            "\u001b[1m> Entering new AgentExecutor chain...\u001b[0m\n",
            "\u001b[32;1m\u001b[1;3m\n",
            "Invoking: `get_top_companies_by_tx_volume` with `{'start_date': '2024-06-06', 'end_date': '2024-06-10', 'top_n': 7}`\n",
            "\n",
            "\n",
            "\u001b[0m\u001b[36;1m\u001b[1;3m{\"2024-06-06\": [{\"symbol\": \"GOTO.JK\", \"company_name\": \"PT GoTo Gojek Tokopedia Tbk\", \"volume\": 3653448500, \"price\": 60}, {\"symbol\": \"FREN.JK\", \"company_name\": \"PT Smartfren Telecom Tbk\", \"volume\": 980937300, \"price\": 31}, {\"symbol\": \"ATLA.JK\", \"company_name\": \"PT Atlantis Subsea Indonesia Tbk\", \"volume\": 794872900, \"price\": 60}, {\"symbol\": \"DOOH.JK\", \"company_name\": \"PT Era Media Sejahtera Tbk\", \"volume\": 338662100, \"price\": 52}, {\"symbol\": \"BULL.JK\", \"company_name\": \"PT Buana Lintas Lautan Tbk.\", \"volume\": 290012800, \"price\": 149}, {\"symbol\": \"BBRI.JK\", \"company_name\": \"PT Bank Rakyat Indonesia (Persero) Tbk\", \"volume\": 281534200, \"price\": 4500}, {\"symbol\": \"BBKP.JK\", \"company_name\": \"PT Bank KB Bukopin Tbk\", \"volume\": 261967100, \"price\": 50}], \"2024-06-07\": [{\"symbol\": \"GOTO.JK\", \"company_name\": \"PT GoTo Gojek Tokopedia Tbk\", \"volume\": 2112800200, \"price\": 58}, {\"symbol\": \"ATLA.JK\", \"company_name\": \"PT Atlantis Subsea Indonesia Tbk\", \"volume\": 941288500, \"price\": 50}, {\"symbol\": \"FREN.JK\", \"company_name\": \"PT Smartfren Telecom Tbk\", \"volume\": 405384900, \"price\": 28}, {\"symbol\": \"BBRI.JK\", \"company_name\": \"PT Bank Rakyat Indonesia (Persero) Tbk\", \"volume\": 375439600, \"price\": 4350}, {\"symbol\": \"BULL.JK\", \"company_name\": \"PT Buana Lintas Lautan Tbk.\", \"volume\": 334265100, \"price\": 149}, {\"symbol\": \"DOOH.JK\", \"company_name\": \"PT Era Media Sejahtera Tbk\", \"volume\": 319557600, \"price\": 52}, {\"symbol\": \"TOSK.JK\", \"company_name\": \"PT Topindo Solusi Komunika Tbk.\", \"volume\": 251676200, \"price\": 60}], \"2024-06-10\": [{\"symbol\": \"GOTO.JK\", \"company_name\": \"PT GoTo Gojek Tokopedia Tbk\", \"volume\": 12293676100, \"price\": 56}, {\"symbol\": \"BATR.JK\", \"company_name\": \"PT Benteng Api Technic Tbk\", \"volume\": 1294170600, \"price\": 120}, {\"symbol\": \"DOOH.JK\", \"company_name\": \"PT Era Media Sejahtera Tbk\", \"volume\": 452562200, \"price\": 52}, {\"symbol\": \"BUMI.JK\", \"company_name\": \"Bumi Resources Tbk\", \"volume\": 401891900, \"price\": 77}, {\"symbol\": \"BULL.JK\", \"company_name\": \"PT Buana Lintas Lautan Tbk.\", \"volume\": 347866100, \"price\": 126}, {\"symbol\": \"BRPT.JK\", \"company_name\": \"Barito Pacific Tbk\", \"volume\": 345437900, \"price\": 1035}, {\"symbol\": \"BSBK.JK\", \"company_name\": \"PT Wulandari Bangun Laksana Tbk\", \"volume\": 297808500, \"price\": 54}]}\u001b[0m\u001b[32;1m\u001b[1;3mThe top 7 most traded stocks between 6th June to 10th June this year are as follows:\n",
            "\n",
            "1. PT GoTo Gojek Tokopedia Tbk (GOTO.JK) with a volume of 12,293,676,100.\n",
            "2. PT Benteng Api Technic Tbk (BATR.JK) with a volume of 1,294,170,600.\n",
            "3. PT Era Media Sejahtera Tbk (DOOH.JK) with a volume of 452,562,200.\n",
            "4. Bumi Resources Tbk (BUMI.JK) with a volume of 401,891,900.\n",
            "5. PT Buana Lintas Lautan Tbk (BULL.JK) with a volume of 347,866,100.\n",
            "6. Barito Pacific Tbk (BRPT.JK) with a volume of 345,437,900.\n",
            "7. PT Wulandari Bangun Laksana Tbk (BSBK.JK) with a volume of 297,808,500.\u001b[0m\n",
            "\n",
            "\u001b[1m> Finished chain.\u001b[0m\n",
            "Answer: \n",
            " The top 7 most traded stocks between 6th June to 10th June this year are as follows:\n",
            "\n",
            "1. PT GoTo Gojek Tokopedia Tbk (GOTO.JK) with a volume of 12,293,676,100.\n",
            "2. PT Benteng Api Technic Tbk (BATR.JK) with a volume of 1,294,170,600.\n",
            "3. PT Era Media Sejahtera Tbk (DOOH.JK) with a volume of 452,562,200.\n",
            "4. Bumi Resources Tbk (BUMI.JK) with a volume of 401,891,900.\n",
            "5. PT Buana Lintas Lautan Tbk (BULL.JK) with a volume of 347,866,100.\n",
            "6. Barito Pacific Tbk (BRPT.JK) with a volume of 345,437,900.\n",
            "7. PT Wulandari Bangun Laksana Tbk (BSBK.JK) with a volume of 297,808,500. \n",
            "\n",
            "======\n",
            "\n",
            "\n"
          ]
        }
      ]
    },
    {
      "cell_type": "markdown",
      "source": [
        "VALIDATION\n",
        "\n",
        "The model above need to be validated to know whether the response is valid and not hallucinating."
      ],
      "metadata": {
        "id": "MQBvPHTrko6a"
      }
    },
    {
      "cell_type": "code",
      "source": [
        "# QUERY 1\n",
        "# \"What are the top 5 companies by transaction volume on the first of this month?\" (Current Date: 31 Jul 2024)\n",
        "url = \"https://api.sectors.app/v1/most-traded/\"\n",
        "querystring = {\"start\":\"2024-07-01\",\"end\":\"2024-07-01\",\"n_stock\":5}\n",
        "response = requests.request(\"GET\", url, headers=headers, params=querystring)\n",
        "print(response.text)"
      ],
      "metadata": {
        "colab": {
          "base_uri": "https://localhost:8080/"
        },
        "id": "UrnnW569kvTv",
        "outputId": "bc1f05a7-59cb-4a36-eada-801a6dba12d4"
      },
      "execution_count": 32,
      "outputs": [
        {
          "output_type": "stream",
          "name": "stdout",
          "text": [
            "{\"2024-07-01\":[{\"symbol\":\"BRPT.JK\",\"company_name\":\"Barito Pacific Tbk\",\"volume\":468215600,\"price\":1130},{\"symbol\":\"GOTO.JK\",\"company_name\":\"PT GoTo Gojek Tokopedia Tbk\",\"volume\":452005800,\"price\":50},{\"symbol\":\"TOSK.JK\",\"company_name\":\"PT Topindo Solusi Komunika Tbk.\",\"volume\":442612100,\"price\":61},{\"symbol\":\"BULL.JK\",\"company_name\":\"PT Buana Lintas Lautan Tbk.\",\"volume\":370373200,\"price\":141},{\"symbol\":\"TOPS.JK\",\"company_name\":\"PT Totalindo Eka Persada Tbk.\",\"volume\":368219800,\"price\":1}]}\n"
          ]
        }
      ]
    },
    {
      "cell_type": "code",
      "source": [
        "# QUERY 2\n",
        "# \"What are the most traded stock yesterday?\" (Current Date: 31 Jul 2024)\n",
        "url = \"https://api.sectors.app/v1/most-traded/\"\n",
        "querystring = {\"start\":\"2024-07-30\",\"end\":\"2024-07-30\",\"n_stock\":5}\n",
        "response = requests.request(\"GET\", url, headers=headers, params=querystring)\n",
        "print(response.text)"
      ],
      "metadata": {
        "id": "w2VFX3W6mK4a",
        "colab": {
          "base_uri": "https://localhost:8080/"
        },
        "outputId": "da030d7d-3f7e-4ecb-8fc1-1185b741b480"
      },
      "execution_count": 33,
      "outputs": [
        {
          "output_type": "stream",
          "name": "stdout",
          "text": [
            "{\"2024-07-30\":[{\"symbol\":\"GOTO.JK\",\"company_name\":\"PT GoTo Gojek Tokopedia Tbk\",\"volume\":1223172300,\"price\":55},{\"symbol\":\"BSBK.JK\",\"company_name\":\"PT Wulandari Bangun Laksana Tbk\",\"volume\":792338900,\"price\":69},{\"symbol\":\"BIPI.JK\",\"company_name\":\"PT Astrindo Nusantara Infrastruktur Tbk.\",\"volume\":629061500,\"price\":59},{\"symbol\":\"ATLA.JK\",\"company_name\":\"PT Atlantis Subsea Indonesia Tbk\",\"volume\":411864600,\"price\":50},{\"symbol\":\"DOOH.JK\",\"company_name\":\"PT Era Media Sejahtera Tbk\",\"volume\":407522900,\"price\":51}]}\n"
          ]
        }
      ]
    },
    {
      "cell_type": "code",
      "source": [
        "# QUERY 3\n",
        "# \"What are the top 7 most traded stocks between 6th June to 10th June this year?\" (Current Date: 31 Jul 2024)\n",
        "url = \"https://api.sectors.app/v1/most-traded/\"\n",
        "querystring = {\"start\":\"2024-06-06\",\"end\":\"2024-06-10\",\"n_stock\":7}\n",
        "response = requests.request(\"GET\", url, headers=headers, params=querystring)\n",
        "print(response.text)"
      ],
      "metadata": {
        "id": "zkdzT7vnmib2",
        "colab": {
          "base_uri": "https://localhost:8080/"
        },
        "outputId": "b6dc2703-a27c-4a61-c36b-63b0c5168340"
      },
      "execution_count": 34,
      "outputs": [
        {
          "output_type": "stream",
          "name": "stdout",
          "text": [
            "{\"2024-06-06\":[{\"symbol\":\"GOTO.JK\",\"company_name\":\"PT GoTo Gojek Tokopedia Tbk\",\"volume\":3653448500,\"price\":60},{\"symbol\":\"FREN.JK\",\"company_name\":\"PT Smartfren Telecom Tbk\",\"volume\":980937300,\"price\":31},{\"symbol\":\"ATLA.JK\",\"company_name\":\"PT Atlantis Subsea Indonesia Tbk\",\"volume\":794872900,\"price\":60},{\"symbol\":\"DOOH.JK\",\"company_name\":\"PT Era Media Sejahtera Tbk\",\"volume\":338662100,\"price\":52},{\"symbol\":\"BULL.JK\",\"company_name\":\"PT Buana Lintas Lautan Tbk.\",\"volume\":290012800,\"price\":149},{\"symbol\":\"BBRI.JK\",\"company_name\":\"PT Bank Rakyat Indonesia (Persero) Tbk\",\"volume\":281534200,\"price\":4500},{\"symbol\":\"BBKP.JK\",\"company_name\":\"PT Bank KB Bukopin Tbk\",\"volume\":261967100,\"price\":50}],\"2024-06-07\":[{\"symbol\":\"GOTO.JK\",\"company_name\":\"PT GoTo Gojek Tokopedia Tbk\",\"volume\":2112800200,\"price\":58},{\"symbol\":\"ATLA.JK\",\"company_name\":\"PT Atlantis Subsea Indonesia Tbk\",\"volume\":941288500,\"price\":50},{\"symbol\":\"FREN.JK\",\"company_name\":\"PT Smartfren Telecom Tbk\",\"volume\":405384900,\"price\":28},{\"symbol\":\"BBRI.JK\",\"company_name\":\"PT Bank Rakyat Indonesia (Persero) Tbk\",\"volume\":375439600,\"price\":4350},{\"symbol\":\"BULL.JK\",\"company_name\":\"PT Buana Lintas Lautan Tbk.\",\"volume\":334265100,\"price\":149},{\"symbol\":\"DOOH.JK\",\"company_name\":\"PT Era Media Sejahtera Tbk\",\"volume\":319557600,\"price\":52},{\"symbol\":\"TOSK.JK\",\"company_name\":\"PT Topindo Solusi Komunika Tbk.\",\"volume\":251676200,\"price\":60}],\"2024-06-10\":[{\"symbol\":\"GOTO.JK\",\"company_name\":\"PT GoTo Gojek Tokopedia Tbk\",\"volume\":12293676100,\"price\":56},{\"symbol\":\"BATR.JK\",\"company_name\":\"PT Benteng Api Technic Tbk\",\"volume\":1294170600,\"price\":120},{\"symbol\":\"DOOH.JK\",\"company_name\":\"PT Era Media Sejahtera Tbk\",\"volume\":452562200,\"price\":52},{\"symbol\":\"BUMI.JK\",\"company_name\":\"Bumi Resources Tbk\",\"volume\":401891900,\"price\":77},{\"symbol\":\"BULL.JK\",\"company_name\":\"PT Buana Lintas Lautan Tbk.\",\"volume\":347866100,\"price\":126},{\"symbol\":\"BRPT.JK\",\"company_name\":\"Barito Pacific Tbk\",\"volume\":345437900,\"price\":1035},{\"symbol\":\"BSBK.JK\",\"company_name\":\"PT Wulandari Bangun Laksana Tbk\",\"volume\":297808500,\"price\":54}]}\n"
          ]
        }
      ]
    },
    {
      "cell_type": "code",
      "source": [
        "# Exercise 1\n",
        "# Ran and Finished July 31st 2024\n",
        "# Since I run it in midnight of August 1st, which might overlap with the instruction of query 1 (on the other side, the market hasn't opened yet, so I modified the system prompt to refer yesterday's date if market hasn't opened yet)"
      ],
      "metadata": {
        "id": "tFwb4sxArIP7"
      },
      "execution_count": 40,
      "outputs": []
    },
    {
      "cell_type": "markdown",
      "source": [
        "# Exercise 2\n",
        "\n",
        "Our users have been using our tool and having a lot of success with it. It is now time to take it one step further: by collecting user's feedback!\n",
        "\n",
        "Here are the sample queries that performed sub-optimally according to user feedback:\n",
        "\n",
        "\n",
        "*   What is the performance of GOTO (symbol: GOTO) since its IPO listing?\n",
        "*   If i had invested into GOTO vs BREN on their respective IPO listing date, which one would have given me a better return over a 90 day horizon?\"\n",
        "\n",
        "Clearly, it's time to expand the tools that our language model has access to. For the second exercise, you'd be implementing **an additional** tool directly into the orchestrator to give your financial AI model a direct pathway to answering questions relating to stock performance since their listing date.\n",
        "\n",
        "\n",
        "> You may have to [refer to Sectors API Documentation](https://docs.sectors.app) for a list of endpoints and pick the one most suitable for the job.\n",
        "\n",
        "To help you get started, I've also added two new tools. Use them as a base reference! If you proceed to run the exercise without adding the right tool(s), `query_4` and `query_5` is most likely going to fail or cause the LLM to answer incorrectly."
      ],
      "metadata": {
        "id": "Ih2yJHQyWZkg"
      }
    },
    {
      "cell_type": "code",
      "source": [
        "@tool\n",
        "def get_company_overview(stock: str) -> str:\n",
        "    \"\"\"\n",
        "    Get company overview\n",
        "    \"\"\"\n",
        "    url = f\"https://api.sectors.app/v1/company/report/{stock}/?sections=overview\"\n",
        "\n",
        "    return retrieve_from_endpoint(url)\n",
        "\n",
        "\n",
        "@tool\n",
        "def get_daily_tx(stock: str, start_date: str, end_date: str) -> str:\n",
        "    \"\"\"\n",
        "    Get daily transaction for a stock\n",
        "    \"\"\"\n",
        "    url = f\"https://api.sectors.app/v1/daily/{stock}/?start={start_date}&end={end_date}\"\n",
        "\n",
        "    return retrieve_from_endpoint(url)\n",
        "\n",
        "\n",
        "tools = [\n",
        "    get_company_overview,\n",
        "    # we created this in the earlier code chunk under Exercise 1\n",
        "    # (so make sure you've run that cell),\n",
        "    get_top_companies_by_tx_volume,\n",
        "    get_daily_tx,\n",
        "]\n",
        "\n",
        "query_1 = \"What are the top 3 companies by transaction volume over the last 7 days?\"\n",
        "query_2 = \"Based on the closing prices of BBCA between 1st and 30th of June 2024, are we seeing an uptrend or downtrend? Try to explain why.\"\n",
        "query_3 = \"What is the company with the largest market cap between BBCA and BREN? For said company, retrieve the email, phone number, listing date and website for further research.\"\n",
        "query_4 = \"What is the performance of GOTO (symbol: GOTO) since its IPO listing?\"\n",
        "query_5 = \"If i had invested into GOTO vs BREN on their respective IPO listing date, which one would have given me a better return over a 90 day horizon?\"\n",
        "\n",
        "queries = [query_1, query_2, query_3, query_4, query_5]\n",
        "\n",
        "llm = ChatGroq(\n",
        "    temperature=0,\n",
        "    model_name=\"llama3-70b-8192\",\n",
        "    groq_api_key=GROQ_API_KEY,\n",
        ")\n",
        "\n",
        "prompt = ChatPromptTemplate.from_messages(\n",
        "    [\n",
        "        (\n",
        "            \"system\",\n",
        "            \"Answer the following queries, as if you are a financial robo-advisor.\",\n",
        "        ),\n",
        "        (\"human\", \"{input}\"),\n",
        "        # msg containing previous agent tool invocations and corresponding tool outputs\n",
        "        MessagesPlaceholder(\"agent_scratchpad\"),\n",
        "    ]\n",
        ")\n",
        "\n",
        "for query in queries:\n",
        "    print(\"Question:\", query)\n",
        "    result = agent_executor.invoke({\"input\": query})\n",
        "    print(\"Answer:\", \"\\n\", result[\"output\"], \"\\n\\n======\\n\\n\")"
      ],
      "metadata": {
        "id": "gphRx4bEXvID",
        "colab": {
          "base_uri": "https://localhost:8080/",
          "height": 1000
        },
        "outputId": "17a18333-5629-4134-8099-d50bec13a639"
      },
      "execution_count": 31,
      "outputs": [
        {
          "output_type": "stream",
          "name": "stdout",
          "text": [
            "Question: What are the top 3 companies by transaction volume over the last 7 days?\n",
            "\n",
            "\n",
            "\u001b[1m> Entering new AgentExecutor chain...\u001b[0m\n",
            "\u001b[32;1m\u001b[1;3m\n",
            "Invoking: `get_top_companies_by_tx_volume` with `{'start_date': '2024-07-24', 'end_date': '2024-07-31', 'top_n': 3}`\n",
            "\n",
            "\n",
            "\u001b[0m\u001b[36;1m\u001b[1;3m{\"2024-07-24\": [{\"symbol\": \"GOTO.JK\", \"company_name\": \"PT GoTo Gojek Tokopedia Tbk\", \"volume\": 2660984600, \"price\": 54}, {\"symbol\": \"BSBK.JK\", \"company_name\": \"PT Wulandari Bangun Laksana Tbk\", \"volume\": 1833364900, \"price\": 83}, {\"symbol\": \"DOOH.JK\", \"company_name\": \"PT Era Media Sejahtera Tbk\", \"volume\": 511754100, \"price\": 53}], \"2024-07-25\": [{\"symbol\": \"BSBK.JK\", \"company_name\": \"PT Wulandari Bangun Laksana Tbk\", \"volume\": 1513766400, \"price\": 76}, {\"symbol\": \"GOTO.JK\", \"company_name\": \"PT GoTo Gojek Tokopedia Tbk\", \"volume\": 911091700, \"price\": 54}, {\"symbol\": \"BBKP.JK\", \"company_name\": \"PT Bank KB Bukopin Tbk\", \"volume\": 432596400, \"price\": 56}], \"2024-07-26\": [{\"symbol\": \"BSBK.JK\", \"company_name\": \"PT Wulandari Bangun Laksana Tbk\", \"volume\": 2408506000, \"price\": 72}, {\"symbol\": \"GOTO.JK\", \"company_name\": \"PT GoTo Gojek Tokopedia Tbk\", \"volume\": 913457100, \"price\": 53}, {\"symbol\": \"MSJA.JK\", \"company_name\": \"PT Multi Spunindo Jaya Tbk.\", \"volume\": 450977300, \"price\": 342}], \"2024-07-29\": [{\"symbol\": \"GOTO.JK\", \"company_name\": \"PT GoTo Gojek Tokopedia Tbk\", \"volume\": 1621366300, \"price\": 54}, {\"symbol\": \"ATLA.JK\", \"company_name\": \"PT Atlantis Subsea Indonesia Tbk\", \"volume\": 1255103900, \"price\": 50}, {\"symbol\": \"BSBK.JK\", \"company_name\": \"PT Wulandari Bangun Laksana Tbk\", \"volume\": 754254000, \"price\": 69}], \"2024-07-30\": [{\"symbol\": \"GOTO.JK\", \"company_name\": \"PT GoTo Gojek Tokopedia Tbk\", \"volume\": 1223172300, \"price\": 55}, {\"symbol\": \"BSBK.JK\", \"company_name\": \"PT Wulandari Bangun Laksana Tbk\", \"volume\": 792338900, \"price\": 69}, {\"symbol\": \"BIPI.JK\", \"company_name\": \"PT Astrindo Nusantara Infrastruktur Tbk.\", \"volume\": 629061500, \"price\": 59}], \"2024-07-31\": [{\"symbol\": \"GOTO.JK\", \"company_name\": \"PT GoTo Gojek Tokopedia Tbk\", \"volume\": 2829429300, \"price\": 53}, {\"symbol\": \"BIPI.JK\", \"company_name\": \"PT Astrindo Nusantara Infrastruktur Tbk.\", \"volume\": 555588600, \"price\": 61}, {\"symbol\": \"BUKA.JK\", \"company_name\": \"PT Bukalapak.com Tbk\", \"volume\": 542254600, \"price\": 118}]}\u001b[0m\u001b[32;1m\u001b[1;3mThe top 3 companies by transaction volume over the last 7 days are:\n",
            "\n",
            "1. PT GoTo Gojek Tokopedia Tbk (GOTO.JK) with a total volume of 8,343,197,300\n",
            "2. PT Wulandari Bangun Laksana Tbk (BSBK.JK) with a total volume of 5,533,130,900\n",
            "3. PT Astrindo Nusantara Infrastruktur Tbk. (BIPI.JK) with a total volume of 1,258,616,100\u001b[0m\n",
            "\n",
            "\u001b[1m> Finished chain.\u001b[0m\n",
            "Answer: \n",
            " The top 3 companies by transaction volume over the last 7 days are:\n",
            "\n",
            "1. PT GoTo Gojek Tokopedia Tbk (GOTO.JK) with a total volume of 8,343,197,300\n",
            "2. PT Wulandari Bangun Laksana Tbk (BSBK.JK) with a total volume of 5,533,130,900\n",
            "3. PT Astrindo Nusantara Infrastruktur Tbk. (BIPI.JK) with a total volume of 1,258,616,100 \n",
            "\n",
            "======\n",
            "\n",
            "\n",
            "Question: Based on the closing prices of BBCA between 1st and 30th of June 2024, are we seeing an uptrend or downtrend? Try to explain why.\n",
            "\n",
            "\n",
            "\u001b[1m> Entering new AgentExecutor chain...\u001b[0m\n",
            "\u001b[32;1m\u001b[1;3m\n",
            "Invoking: `get_top_companies_by_tx_volume` with `{'start_date': '2024-06-01', 'end_date': '2024-06-30', 'top_n': 1}`\n",
            "\n",
            "\n",
            "\u001b[0m\u001b[36;1m\u001b[1;3m{\"2024-06-03\": [{\"symbol\": \"GOTO.JK\", \"company_name\": \"PT GoTo Gojek Tokopedia Tbk\", \"volume\": 2819780100, \"price\": 64}], \"2024-06-04\": [{\"symbol\": \"GOTO.JK\", \"company_name\": \"PT GoTo Gojek Tokopedia Tbk\", \"volume\": 3897345000, \"price\": 61}], \"2024-06-05\": [{\"symbol\": \"GOTO.JK\", \"company_name\": \"PT GoTo Gojek Tokopedia Tbk\", \"volume\": 2941421600, \"price\": 59}], \"2024-06-06\": [{\"symbol\": \"GOTO.JK\", \"company_name\": \"PT GoTo Gojek Tokopedia Tbk\", \"volume\": 3653448500, \"price\": 60}], \"2024-06-07\": [{\"symbol\": \"GOTO.JK\", \"company_name\": \"PT GoTo Gojek Tokopedia Tbk\", \"volume\": 2112800200, \"price\": 58}], \"2024-06-10\": [{\"symbol\": \"GOTO.JK\", \"company_name\": \"PT GoTo Gojek Tokopedia Tbk\", \"volume\": 12293676100, \"price\": 56}], \"2024-06-11\": [{\"symbol\": \"GOTO.JK\", \"company_name\": \"PT GoTo Gojek Tokopedia Tbk\", \"volume\": 5391123100, \"price\": 53}], \"2024-06-12\": [{\"symbol\": \"GOTO.JK\", \"company_name\": \"PT GoTo Gojek Tokopedia Tbk\", \"volume\": 4916057200, \"price\": 52}], \"2024-06-13\": [{\"symbol\": \"GOTO.JK\", \"company_name\": \"PT GoTo Gojek Tokopedia Tbk\", \"volume\": 6275740200, \"price\": 52}], \"2024-06-14\": [{\"symbol\": \"GOTO.JK\", \"company_name\": \"PT GoTo Gojek Tokopedia Tbk\", \"volume\": 3781341000, \"price\": 52}], \"2024-06-19\": [{\"symbol\": \"GOTO.JK\", \"company_name\": \"PT GoTo Gojek Tokopedia Tbk\", \"volume\": 9357880800, \"price\": 50}], \"2024-06-20\": [{\"symbol\": \"GOTO.JK\", \"company_name\": \"PT GoTo Gojek Tokopedia Tbk\", \"volume\": 3692944100, \"price\": 50}], \"2024-06-21\": [{\"symbol\": \"GOTO.JK\", \"company_name\": \"PT GoTo Gojek Tokopedia Tbk\", \"volume\": 8090430900, \"price\": 50}], \"2024-06-24\": [{\"symbol\": \"GOTO.JK\", \"company_name\": \"PT GoTo Gojek Tokopedia Tbk\", \"volume\": 1898379900, \"price\": 51}], \"2024-06-25\": [{\"symbol\": \"GOTO.JK\", \"company_name\": \"PT GoTo Gojek Tokopedia Tbk\", \"volume\": 2216509800, \"price\": 50}], \"2024-06-26\": [{\"symbol\": \"GOTO.JK\", \"company_name\": \"PT GoTo Gojek Tokopedia Tbk\", \"volume\": 1958237500, \"price\": 50}], \"2024-06-27\": [{\"symbol\": \"GOTO.JK\", \"company_name\": \"PT GoTo Gojek Tokopedia Tbk\", \"volume\": 866920300, \"price\": 50}], \"2024-06-28\": [{\"symbol\": \"GOTO.JK\", \"company_name\": \"PT GoTo Gojek Tokopedia Tbk\", \"volume\": 1042748000, \"price\": 50}]}\u001b[0m\u001b[32;1m\u001b[1;3mBased on the provided data, it appears that the closing prices of BBCA are not present in the data. The data provided is for PT GoTo Gojek Tokopedia Tbk (GOTO.JK) and not for BBCA. \n",
            "\n",
            "To answer your original question, I would need the closing prices of BBCA between 1st and 30th of June 2024. If you can provide that data, I can help you determine if there is an uptrend or downtrend.\u001b[0m\n",
            "\n",
            "\u001b[1m> Finished chain.\u001b[0m\n",
            "Answer: \n",
            " Based on the provided data, it appears that the closing prices of BBCA are not present in the data. The data provided is for PT GoTo Gojek Tokopedia Tbk (GOTO.JK) and not for BBCA. \n",
            "\n",
            "To answer your original question, I would need the closing prices of BBCA between 1st and 30th of June 2024. If you can provide that data, I can help you determine if there is an uptrend or downtrend. \n",
            "\n",
            "======\n",
            "\n",
            "\n",
            "Question: What is the company with the largest market cap between BBCA and BREN? For said company, retrieve the email, phone number, listing date and website for further research.\n",
            "\n",
            "\n",
            "\u001b[1m> Entering new AgentExecutor chain...\u001b[0m\n"
          ]
        },
        {
          "output_type": "error",
          "ename": "BadRequestError",
          "evalue": "Error code: 400 - {'error': {'message': \"Failed to call a function. Please adjust your prompt. See 'failed_generation' for more details.\", 'type': 'invalid_request_error', 'code': 'tool_use_failed', 'failed_generation': '<tool-use>{\"tool_calls\": [{\"id\": \"pending\", \"type\": \"function\", \"function\": {\"name\": \"get_company_info\"}, \"parameters\": {\"stock\": \"BBCA\"}}], [{\"id\": \"pending\", \"type\": \"function\", \"function\": {\"name\": \"get_company_info\"}, \"parameters\": {\"stock\": \"BREN\"}}]}</tool-use>'}}",
          "traceback": [
            "\u001b[0;31m---------------------------------------------------------------------------\u001b[0m",
            "\u001b[0;31mBadRequestError\u001b[0m                           Traceback (most recent call last)",
            "\u001b[0;32m<ipython-input-31-fa839049ce85>\u001b[0m in \u001b[0;36m<cell line: 55>\u001b[0;34m()\u001b[0m\n\u001b[1;32m     55\u001b[0m \u001b[0;32mfor\u001b[0m \u001b[0mquery\u001b[0m \u001b[0;32min\u001b[0m \u001b[0mqueries\u001b[0m\u001b[0;34m:\u001b[0m\u001b[0;34m\u001b[0m\u001b[0;34m\u001b[0m\u001b[0m\n\u001b[1;32m     56\u001b[0m     \u001b[0mprint\u001b[0m\u001b[0;34m(\u001b[0m\u001b[0;34m\"Question:\"\u001b[0m\u001b[0;34m,\u001b[0m \u001b[0mquery\u001b[0m\u001b[0;34m)\u001b[0m\u001b[0;34m\u001b[0m\u001b[0;34m\u001b[0m\u001b[0m\n\u001b[0;32m---> 57\u001b[0;31m     \u001b[0mresult\u001b[0m \u001b[0;34m=\u001b[0m \u001b[0magent_executor\u001b[0m\u001b[0;34m.\u001b[0m\u001b[0minvoke\u001b[0m\u001b[0;34m(\u001b[0m\u001b[0;34m{\u001b[0m\u001b[0;34m\"input\"\u001b[0m\u001b[0;34m:\u001b[0m \u001b[0mquery\u001b[0m\u001b[0;34m}\u001b[0m\u001b[0;34m)\u001b[0m\u001b[0;34m\u001b[0m\u001b[0;34m\u001b[0m\u001b[0m\n\u001b[0m\u001b[1;32m     58\u001b[0m     \u001b[0mprint\u001b[0m\u001b[0;34m(\u001b[0m\u001b[0;34m\"Answer:\"\u001b[0m\u001b[0;34m,\u001b[0m \u001b[0;34m\"\\n\"\u001b[0m\u001b[0;34m,\u001b[0m \u001b[0mresult\u001b[0m\u001b[0;34m[\u001b[0m\u001b[0;34m\"output\"\u001b[0m\u001b[0;34m]\u001b[0m\u001b[0;34m,\u001b[0m \u001b[0;34m\"\\n\\n======\\n\\n\"\u001b[0m\u001b[0;34m)\u001b[0m\u001b[0;34m\u001b[0m\u001b[0;34m\u001b[0m\u001b[0m\n",
            "\u001b[0;32m/usr/local/lib/python3.10/dist-packages/langchain/chains/base.py\u001b[0m in \u001b[0;36minvoke\u001b[0;34m(self, input, config, **kwargs)\u001b[0m\n\u001b[1;32m    164\u001b[0m         \u001b[0;32mexcept\u001b[0m \u001b[0mBaseException\u001b[0m \u001b[0;32mas\u001b[0m \u001b[0me\u001b[0m\u001b[0;34m:\u001b[0m\u001b[0;34m\u001b[0m\u001b[0;34m\u001b[0m\u001b[0m\n\u001b[1;32m    165\u001b[0m             \u001b[0mrun_manager\u001b[0m\u001b[0;34m.\u001b[0m\u001b[0mon_chain_error\u001b[0m\u001b[0;34m(\u001b[0m\u001b[0me\u001b[0m\u001b[0;34m)\u001b[0m\u001b[0;34m\u001b[0m\u001b[0;34m\u001b[0m\u001b[0m\n\u001b[0;32m--> 166\u001b[0;31m             \u001b[0;32mraise\u001b[0m \u001b[0me\u001b[0m\u001b[0;34m\u001b[0m\u001b[0;34m\u001b[0m\u001b[0m\n\u001b[0m\u001b[1;32m    167\u001b[0m         \u001b[0mrun_manager\u001b[0m\u001b[0;34m.\u001b[0m\u001b[0mon_chain_end\u001b[0m\u001b[0;34m(\u001b[0m\u001b[0moutputs\u001b[0m\u001b[0;34m)\u001b[0m\u001b[0;34m\u001b[0m\u001b[0;34m\u001b[0m\u001b[0m\n\u001b[1;32m    168\u001b[0m \u001b[0;34m\u001b[0m\u001b[0m\n",
            "\u001b[0;32m/usr/local/lib/python3.10/dist-packages/langchain/chains/base.py\u001b[0m in \u001b[0;36minvoke\u001b[0;34m(self, input, config, **kwargs)\u001b[0m\n\u001b[1;32m    154\u001b[0m             \u001b[0mself\u001b[0m\u001b[0;34m.\u001b[0m\u001b[0m_validate_inputs\u001b[0m\u001b[0;34m(\u001b[0m\u001b[0minputs\u001b[0m\u001b[0;34m)\u001b[0m\u001b[0;34m\u001b[0m\u001b[0;34m\u001b[0m\u001b[0m\n\u001b[1;32m    155\u001b[0m             outputs = (\n\u001b[0;32m--> 156\u001b[0;31m                 \u001b[0mself\u001b[0m\u001b[0;34m.\u001b[0m\u001b[0m_call\u001b[0m\u001b[0;34m(\u001b[0m\u001b[0minputs\u001b[0m\u001b[0;34m,\u001b[0m \u001b[0mrun_manager\u001b[0m\u001b[0;34m=\u001b[0m\u001b[0mrun_manager\u001b[0m\u001b[0;34m)\u001b[0m\u001b[0;34m\u001b[0m\u001b[0;34m\u001b[0m\u001b[0m\n\u001b[0m\u001b[1;32m    157\u001b[0m                 \u001b[0;32mif\u001b[0m \u001b[0mnew_arg_supported\u001b[0m\u001b[0;34m\u001b[0m\u001b[0;34m\u001b[0m\u001b[0m\n\u001b[1;32m    158\u001b[0m                 \u001b[0;32melse\u001b[0m \u001b[0mself\u001b[0m\u001b[0;34m.\u001b[0m\u001b[0m_call\u001b[0m\u001b[0;34m(\u001b[0m\u001b[0minputs\u001b[0m\u001b[0;34m)\u001b[0m\u001b[0;34m\u001b[0m\u001b[0;34m\u001b[0m\u001b[0m\n",
            "\u001b[0;32m/usr/local/lib/python3.10/dist-packages/langchain/agents/agent.py\u001b[0m in \u001b[0;36m_call\u001b[0;34m(self, inputs, run_manager)\u001b[0m\n\u001b[1;32m   1610\u001b[0m         \u001b[0;31m# We now enter the agent loop (until it returns something).\u001b[0m\u001b[0;34m\u001b[0m\u001b[0;34m\u001b[0m\u001b[0m\n\u001b[1;32m   1611\u001b[0m         \u001b[0;32mwhile\u001b[0m \u001b[0mself\u001b[0m\u001b[0;34m.\u001b[0m\u001b[0m_should_continue\u001b[0m\u001b[0;34m(\u001b[0m\u001b[0miterations\u001b[0m\u001b[0;34m,\u001b[0m \u001b[0mtime_elapsed\u001b[0m\u001b[0;34m)\u001b[0m\u001b[0;34m:\u001b[0m\u001b[0;34m\u001b[0m\u001b[0;34m\u001b[0m\u001b[0m\n\u001b[0;32m-> 1612\u001b[0;31m             next_step_output = self._take_next_step(\n\u001b[0m\u001b[1;32m   1613\u001b[0m                 \u001b[0mname_to_tool_map\u001b[0m\u001b[0;34m,\u001b[0m\u001b[0;34m\u001b[0m\u001b[0;34m\u001b[0m\u001b[0m\n\u001b[1;32m   1614\u001b[0m                 \u001b[0mcolor_mapping\u001b[0m\u001b[0;34m,\u001b[0m\u001b[0;34m\u001b[0m\u001b[0;34m\u001b[0m\u001b[0m\n",
            "\u001b[0;32m/usr/local/lib/python3.10/dist-packages/langchain/agents/agent.py\u001b[0m in \u001b[0;36m_take_next_step\u001b[0;34m(self, name_to_tool_map, color_mapping, inputs, intermediate_steps, run_manager)\u001b[0m\n\u001b[1;32m   1316\u001b[0m     ) -> Union[AgentFinish, List[Tuple[AgentAction, str]]]:\n\u001b[1;32m   1317\u001b[0m         return self._consume_next_step(\n\u001b[0;32m-> 1318\u001b[0;31m             [\n\u001b[0m\u001b[1;32m   1319\u001b[0m                 \u001b[0ma\u001b[0m\u001b[0;34m\u001b[0m\u001b[0;34m\u001b[0m\u001b[0m\n\u001b[1;32m   1320\u001b[0m                 for a in self._iter_next_step(\n",
            "\u001b[0;32m/usr/local/lib/python3.10/dist-packages/langchain/agents/agent.py\u001b[0m in \u001b[0;36m<listcomp>\u001b[0;34m(.0)\u001b[0m\n\u001b[1;32m   1316\u001b[0m     ) -> Union[AgentFinish, List[Tuple[AgentAction, str]]]:\n\u001b[1;32m   1317\u001b[0m         return self._consume_next_step(\n\u001b[0;32m-> 1318\u001b[0;31m             [\n\u001b[0m\u001b[1;32m   1319\u001b[0m                 \u001b[0ma\u001b[0m\u001b[0;34m\u001b[0m\u001b[0;34m\u001b[0m\u001b[0m\n\u001b[1;32m   1320\u001b[0m                 for a in self._iter_next_step(\n",
            "\u001b[0;32m/usr/local/lib/python3.10/dist-packages/langchain/agents/agent.py\u001b[0m in \u001b[0;36m_iter_next_step\u001b[0;34m(self, name_to_tool_map, color_mapping, inputs, intermediate_steps, run_manager)\u001b[0m\n\u001b[1;32m   1344\u001b[0m \u001b[0;34m\u001b[0m\u001b[0m\n\u001b[1;32m   1345\u001b[0m             \u001b[0;31m# Call the LLM to see what to do.\u001b[0m\u001b[0;34m\u001b[0m\u001b[0;34m\u001b[0m\u001b[0m\n\u001b[0;32m-> 1346\u001b[0;31m             output = self.agent.plan(\n\u001b[0m\u001b[1;32m   1347\u001b[0m                 \u001b[0mintermediate_steps\u001b[0m\u001b[0;34m,\u001b[0m\u001b[0;34m\u001b[0m\u001b[0;34m\u001b[0m\u001b[0m\n\u001b[1;32m   1348\u001b[0m                 \u001b[0mcallbacks\u001b[0m\u001b[0;34m=\u001b[0m\u001b[0mrun_manager\u001b[0m\u001b[0;34m.\u001b[0m\u001b[0mget_child\u001b[0m\u001b[0;34m(\u001b[0m\u001b[0;34m)\u001b[0m \u001b[0;32mif\u001b[0m \u001b[0mrun_manager\u001b[0m \u001b[0;32melse\u001b[0m \u001b[0;32mNone\u001b[0m\u001b[0;34m,\u001b[0m\u001b[0;34m\u001b[0m\u001b[0;34m\u001b[0m\u001b[0m\n",
            "\u001b[0;32m/usr/local/lib/python3.10/dist-packages/langchain/agents/agent.py\u001b[0m in \u001b[0;36mplan\u001b[0;34m(self, intermediate_steps, callbacks, **kwargs)\u001b[0m\n\u001b[1;32m    578\u001b[0m             \u001b[0;31m# Because the response from the plan is not a generator, we need to\u001b[0m\u001b[0;34m\u001b[0m\u001b[0;34m\u001b[0m\u001b[0m\n\u001b[1;32m    579\u001b[0m             \u001b[0;31m# accumulate the output into final output and return that.\u001b[0m\u001b[0;34m\u001b[0m\u001b[0;34m\u001b[0m\u001b[0m\n\u001b[0;32m--> 580\u001b[0;31m             \u001b[0;32mfor\u001b[0m \u001b[0mchunk\u001b[0m \u001b[0;32min\u001b[0m \u001b[0mself\u001b[0m\u001b[0;34m.\u001b[0m\u001b[0mrunnable\u001b[0m\u001b[0;34m.\u001b[0m\u001b[0mstream\u001b[0m\u001b[0;34m(\u001b[0m\u001b[0minputs\u001b[0m\u001b[0;34m,\u001b[0m \u001b[0mconfig\u001b[0m\u001b[0;34m=\u001b[0m\u001b[0;34m{\u001b[0m\u001b[0;34m\"callbacks\"\u001b[0m\u001b[0;34m:\u001b[0m \u001b[0mcallbacks\u001b[0m\u001b[0;34m}\u001b[0m\u001b[0;34m)\u001b[0m\u001b[0;34m:\u001b[0m\u001b[0;34m\u001b[0m\u001b[0;34m\u001b[0m\u001b[0m\n\u001b[0m\u001b[1;32m    581\u001b[0m                 \u001b[0;32mif\u001b[0m \u001b[0mfinal_output\u001b[0m \u001b[0;32mis\u001b[0m \u001b[0;32mNone\u001b[0m\u001b[0;34m:\u001b[0m\u001b[0;34m\u001b[0m\u001b[0;34m\u001b[0m\u001b[0m\n\u001b[1;32m    582\u001b[0m                     \u001b[0mfinal_output\u001b[0m \u001b[0;34m=\u001b[0m \u001b[0mchunk\u001b[0m\u001b[0;34m\u001b[0m\u001b[0;34m\u001b[0m\u001b[0m\n",
            "\u001b[0;32m/usr/local/lib/python3.10/dist-packages/langchain_core/runnables/base.py\u001b[0m in \u001b[0;36mstream\u001b[0;34m(self, input, config, **kwargs)\u001b[0m\n\u001b[1;32m   3251\u001b[0m         \u001b[0;34m**\u001b[0m\u001b[0mkwargs\u001b[0m\u001b[0;34m:\u001b[0m \u001b[0mOptional\u001b[0m\u001b[0;34m[\u001b[0m\u001b[0mAny\u001b[0m\u001b[0;34m]\u001b[0m\u001b[0;34m,\u001b[0m\u001b[0;34m\u001b[0m\u001b[0;34m\u001b[0m\u001b[0m\n\u001b[1;32m   3252\u001b[0m     ) -> Iterator[Output]:\n\u001b[0;32m-> 3253\u001b[0;31m         \u001b[0;32myield\u001b[0m \u001b[0;32mfrom\u001b[0m \u001b[0mself\u001b[0m\u001b[0;34m.\u001b[0m\u001b[0mtransform\u001b[0m\u001b[0;34m(\u001b[0m\u001b[0miter\u001b[0m\u001b[0;34m(\u001b[0m\u001b[0;34m[\u001b[0m\u001b[0minput\u001b[0m\u001b[0;34m]\u001b[0m\u001b[0;34m)\u001b[0m\u001b[0;34m,\u001b[0m \u001b[0mconfig\u001b[0m\u001b[0;34m,\u001b[0m \u001b[0;34m**\u001b[0m\u001b[0mkwargs\u001b[0m\u001b[0;34m)\u001b[0m\u001b[0;34m\u001b[0m\u001b[0;34m\u001b[0m\u001b[0m\n\u001b[0m\u001b[1;32m   3254\u001b[0m \u001b[0;34m\u001b[0m\u001b[0m\n\u001b[1;32m   3255\u001b[0m     async def atransform(\n",
            "\u001b[0;32m/usr/local/lib/python3.10/dist-packages/langchain_core/runnables/base.py\u001b[0m in \u001b[0;36mtransform\u001b[0;34m(self, input, config, **kwargs)\u001b[0m\n\u001b[1;32m   3238\u001b[0m         \u001b[0;34m**\u001b[0m\u001b[0mkwargs\u001b[0m\u001b[0;34m:\u001b[0m \u001b[0mOptional\u001b[0m\u001b[0;34m[\u001b[0m\u001b[0mAny\u001b[0m\u001b[0;34m]\u001b[0m\u001b[0;34m,\u001b[0m\u001b[0;34m\u001b[0m\u001b[0;34m\u001b[0m\u001b[0m\n\u001b[1;32m   3239\u001b[0m     ) -> Iterator[Output]:\n\u001b[0;32m-> 3240\u001b[0;31m         yield from self._transform_stream_with_config(\n\u001b[0m\u001b[1;32m   3241\u001b[0m             \u001b[0minput\u001b[0m\u001b[0;34m,\u001b[0m\u001b[0;34m\u001b[0m\u001b[0;34m\u001b[0m\u001b[0m\n\u001b[1;32m   3242\u001b[0m             \u001b[0mself\u001b[0m\u001b[0;34m.\u001b[0m\u001b[0m_transform\u001b[0m\u001b[0;34m,\u001b[0m\u001b[0;34m\u001b[0m\u001b[0;34m\u001b[0m\u001b[0m\n",
            "\u001b[0;32m/usr/local/lib/python3.10/dist-packages/langchain_core/runnables/base.py\u001b[0m in \u001b[0;36m_transform_stream_with_config\u001b[0;34m(self, input, transformer, config, run_type, **kwargs)\u001b[0m\n\u001b[1;32m   2051\u001b[0m             \u001b[0;32mtry\u001b[0m\u001b[0;34m:\u001b[0m\u001b[0;34m\u001b[0m\u001b[0;34m\u001b[0m\u001b[0m\n\u001b[1;32m   2052\u001b[0m                 \u001b[0;32mwhile\u001b[0m \u001b[0;32mTrue\u001b[0m\u001b[0;34m:\u001b[0m\u001b[0;34m\u001b[0m\u001b[0;34m\u001b[0m\u001b[0m\n\u001b[0;32m-> 2053\u001b[0;31m                     \u001b[0mchunk\u001b[0m\u001b[0;34m:\u001b[0m \u001b[0mOutput\u001b[0m \u001b[0;34m=\u001b[0m \u001b[0mcontext\u001b[0m\u001b[0;34m.\u001b[0m\u001b[0mrun\u001b[0m\u001b[0;34m(\u001b[0m\u001b[0mnext\u001b[0m\u001b[0;34m,\u001b[0m \u001b[0miterator\u001b[0m\u001b[0;34m)\u001b[0m  \u001b[0;31m# type: ignore\u001b[0m\u001b[0;34m\u001b[0m\u001b[0;34m\u001b[0m\u001b[0m\n\u001b[0m\u001b[1;32m   2054\u001b[0m                     \u001b[0;32myield\u001b[0m \u001b[0mchunk\u001b[0m\u001b[0;34m\u001b[0m\u001b[0;34m\u001b[0m\u001b[0m\n\u001b[1;32m   2055\u001b[0m                     \u001b[0;32mif\u001b[0m \u001b[0mfinal_output_supported\u001b[0m\u001b[0;34m:\u001b[0m\u001b[0;34m\u001b[0m\u001b[0;34m\u001b[0m\u001b[0m\n",
            "\u001b[0;32m/usr/local/lib/python3.10/dist-packages/langchain_core/runnables/base.py\u001b[0m in \u001b[0;36m_transform\u001b[0;34m(self, input, run_manager, config, **kwargs)\u001b[0m\n\u001b[1;32m   3200\u001b[0m                 \u001b[0mfinal_pipeline\u001b[0m \u001b[0;34m=\u001b[0m \u001b[0mstep\u001b[0m\u001b[0;34m.\u001b[0m\u001b[0mtransform\u001b[0m\u001b[0;34m(\u001b[0m\u001b[0mfinal_pipeline\u001b[0m\u001b[0;34m,\u001b[0m \u001b[0mconfig\u001b[0m\u001b[0;34m)\u001b[0m\u001b[0;34m\u001b[0m\u001b[0;34m\u001b[0m\u001b[0m\n\u001b[1;32m   3201\u001b[0m \u001b[0;34m\u001b[0m\u001b[0m\n\u001b[0;32m-> 3202\u001b[0;31m         \u001b[0;32mfor\u001b[0m \u001b[0moutput\u001b[0m \u001b[0;32min\u001b[0m \u001b[0mfinal_pipeline\u001b[0m\u001b[0;34m:\u001b[0m\u001b[0;34m\u001b[0m\u001b[0;34m\u001b[0m\u001b[0m\n\u001b[0m\u001b[1;32m   3203\u001b[0m             \u001b[0;32myield\u001b[0m \u001b[0moutput\u001b[0m\u001b[0;34m\u001b[0m\u001b[0;34m\u001b[0m\u001b[0m\n\u001b[1;32m   3204\u001b[0m \u001b[0;34m\u001b[0m\u001b[0m\n",
            "\u001b[0;32m/usr/local/lib/python3.10/dist-packages/langchain_core/runnables/base.py\u001b[0m in \u001b[0;36mtransform\u001b[0;34m(self, input, config, **kwargs)\u001b[0m\n\u001b[1;32m   1269\u001b[0m         \u001b[0mgot_first_val\u001b[0m \u001b[0;34m=\u001b[0m \u001b[0;32mFalse\u001b[0m\u001b[0;34m\u001b[0m\u001b[0;34m\u001b[0m\u001b[0m\n\u001b[1;32m   1270\u001b[0m \u001b[0;34m\u001b[0m\u001b[0m\n\u001b[0;32m-> 1271\u001b[0;31m         \u001b[0;32mfor\u001b[0m \u001b[0michunk\u001b[0m \u001b[0;32min\u001b[0m \u001b[0minput\u001b[0m\u001b[0;34m:\u001b[0m\u001b[0;34m\u001b[0m\u001b[0;34m\u001b[0m\u001b[0m\n\u001b[0m\u001b[1;32m   1272\u001b[0m             \u001b[0;31m# The default implementation of transform is to buffer input and\u001b[0m\u001b[0;34m\u001b[0m\u001b[0;34m\u001b[0m\u001b[0m\n\u001b[1;32m   1273\u001b[0m             \u001b[0;31m# then call stream.\u001b[0m\u001b[0;34m\u001b[0m\u001b[0;34m\u001b[0m\u001b[0m\n",
            "\u001b[0;32m/usr/local/lib/python3.10/dist-packages/langchain_core/runnables/base.py\u001b[0m in \u001b[0;36mtransform\u001b[0;34m(self, input, config, **kwargs)\u001b[0m\n\u001b[1;32m   5265\u001b[0m         \u001b[0;34m**\u001b[0m\u001b[0mkwargs\u001b[0m\u001b[0;34m:\u001b[0m \u001b[0mAny\u001b[0m\u001b[0;34m,\u001b[0m\u001b[0;34m\u001b[0m\u001b[0;34m\u001b[0m\u001b[0m\n\u001b[1;32m   5266\u001b[0m     ) -> Iterator[Output]:\n\u001b[0;32m-> 5267\u001b[0;31m         yield from self.bound.transform(\n\u001b[0m\u001b[1;32m   5268\u001b[0m             \u001b[0minput\u001b[0m\u001b[0;34m,\u001b[0m\u001b[0;34m\u001b[0m\u001b[0;34m\u001b[0m\u001b[0m\n\u001b[1;32m   5269\u001b[0m             \u001b[0mself\u001b[0m\u001b[0;34m.\u001b[0m\u001b[0m_merge_configs\u001b[0m\u001b[0;34m(\u001b[0m\u001b[0mconfig\u001b[0m\u001b[0;34m)\u001b[0m\u001b[0;34m,\u001b[0m\u001b[0;34m\u001b[0m\u001b[0;34m\u001b[0m\u001b[0m\n",
            "\u001b[0;32m/usr/local/lib/python3.10/dist-packages/langchain_core/runnables/base.py\u001b[0m in \u001b[0;36mtransform\u001b[0;34m(self, input, config, **kwargs)\u001b[0m\n\u001b[1;32m   1287\u001b[0m \u001b[0;34m\u001b[0m\u001b[0m\n\u001b[1;32m   1288\u001b[0m         \u001b[0;32mif\u001b[0m \u001b[0mgot_first_val\u001b[0m\u001b[0;34m:\u001b[0m\u001b[0;34m\u001b[0m\u001b[0;34m\u001b[0m\u001b[0m\n\u001b[0;32m-> 1289\u001b[0;31m             \u001b[0;32myield\u001b[0m \u001b[0;32mfrom\u001b[0m \u001b[0mself\u001b[0m\u001b[0;34m.\u001b[0m\u001b[0mstream\u001b[0m\u001b[0;34m(\u001b[0m\u001b[0mfinal\u001b[0m\u001b[0;34m,\u001b[0m \u001b[0mconfig\u001b[0m\u001b[0;34m,\u001b[0m \u001b[0;34m**\u001b[0m\u001b[0mkwargs\u001b[0m\u001b[0;34m)\u001b[0m\u001b[0;34m\u001b[0m\u001b[0;34m\u001b[0m\u001b[0m\n\u001b[0m\u001b[1;32m   1290\u001b[0m \u001b[0;34m\u001b[0m\u001b[0m\n\u001b[1;32m   1291\u001b[0m     async def atransform(\n",
            "\u001b[0;32m/usr/local/lib/python3.10/dist-packages/langchain_core/language_models/chat_models.py\u001b[0m in \u001b[0;36mstream\u001b[0;34m(self, input, config, stop, **kwargs)\u001b[0m\n\u001b[1;32m    371\u001b[0m                     ),\n\u001b[1;32m    372\u001b[0m                 )\n\u001b[0;32m--> 373\u001b[0;31m                 \u001b[0;32mraise\u001b[0m \u001b[0me\u001b[0m\u001b[0;34m\u001b[0m\u001b[0;34m\u001b[0m\u001b[0m\n\u001b[0m\u001b[1;32m    374\u001b[0m             \u001b[0;32melse\u001b[0m\u001b[0;34m:\u001b[0m\u001b[0;34m\u001b[0m\u001b[0;34m\u001b[0m\u001b[0m\n\u001b[1;32m    375\u001b[0m                 \u001b[0mrun_manager\u001b[0m\u001b[0;34m.\u001b[0m\u001b[0mon_llm_end\u001b[0m\u001b[0;34m(\u001b[0m\u001b[0mLLMResult\u001b[0m\u001b[0;34m(\u001b[0m\u001b[0mgenerations\u001b[0m\u001b[0;34m=\u001b[0m\u001b[0;34m[\u001b[0m\u001b[0;34m[\u001b[0m\u001b[0mgeneration\u001b[0m\u001b[0;34m]\u001b[0m\u001b[0;34m]\u001b[0m\u001b[0;34m)\u001b[0m\u001b[0;34m)\u001b[0m\u001b[0;34m\u001b[0m\u001b[0;34m\u001b[0m\u001b[0m\n",
            "\u001b[0;32m/usr/local/lib/python3.10/dist-packages/langchain_core/language_models/chat_models.py\u001b[0m in \u001b[0;36mstream\u001b[0;34m(self, input, config, stop, **kwargs)\u001b[0m\n\u001b[1;32m    351\u001b[0m \u001b[0;34m\u001b[0m\u001b[0m\n\u001b[1;32m    352\u001b[0m             \u001b[0;32mtry\u001b[0m\u001b[0;34m:\u001b[0m\u001b[0;34m\u001b[0m\u001b[0;34m\u001b[0m\u001b[0m\n\u001b[0;32m--> 353\u001b[0;31m                 \u001b[0;32mfor\u001b[0m \u001b[0mchunk\u001b[0m \u001b[0;32min\u001b[0m \u001b[0mself\u001b[0m\u001b[0;34m.\u001b[0m\u001b[0m_stream\u001b[0m\u001b[0;34m(\u001b[0m\u001b[0mmessages\u001b[0m\u001b[0;34m,\u001b[0m \u001b[0mstop\u001b[0m\u001b[0;34m=\u001b[0m\u001b[0mstop\u001b[0m\u001b[0;34m,\u001b[0m \u001b[0;34m**\u001b[0m\u001b[0mkwargs\u001b[0m\u001b[0;34m)\u001b[0m\u001b[0;34m:\u001b[0m\u001b[0;34m\u001b[0m\u001b[0;34m\u001b[0m\u001b[0m\n\u001b[0m\u001b[1;32m    354\u001b[0m                     \u001b[0;32mif\u001b[0m \u001b[0mchunk\u001b[0m\u001b[0;34m.\u001b[0m\u001b[0mmessage\u001b[0m\u001b[0;34m.\u001b[0m\u001b[0mid\u001b[0m \u001b[0;32mis\u001b[0m \u001b[0;32mNone\u001b[0m\u001b[0;34m:\u001b[0m\u001b[0;34m\u001b[0m\u001b[0;34m\u001b[0m\u001b[0m\n\u001b[1;32m    355\u001b[0m                         \u001b[0mchunk\u001b[0m\u001b[0;34m.\u001b[0m\u001b[0mmessage\u001b[0m\u001b[0;34m.\u001b[0m\u001b[0mid\u001b[0m \u001b[0;34m=\u001b[0m \u001b[0;34mf\"run-{run_manager.run_id}\"\u001b[0m\u001b[0;34m\u001b[0m\u001b[0;34m\u001b[0m\u001b[0m\n",
            "\u001b[0;32m/usr/local/lib/python3.10/dist-packages/langchain_groq/chat_models.py\u001b[0m in \u001b[0;36m_stream\u001b[0;34m(self, messages, stop, run_manager, **kwargs)\u001b[0m\n\u001b[1;32m    505\u001b[0m         \u001b[0;31m# groq api does not support streaming with tools yet\u001b[0m\u001b[0;34m\u001b[0m\u001b[0;34m\u001b[0m\u001b[0m\n\u001b[1;32m    506\u001b[0m         \u001b[0;32mif\u001b[0m \u001b[0;34m\"tools\"\u001b[0m \u001b[0;32min\u001b[0m \u001b[0mkwargs\u001b[0m\u001b[0;34m:\u001b[0m\u001b[0;34m\u001b[0m\u001b[0;34m\u001b[0m\u001b[0m\n\u001b[0;32m--> 507\u001b[0;31m             response = self.client.create(\n\u001b[0m\u001b[1;32m    508\u001b[0m                 \u001b[0mmessages\u001b[0m\u001b[0;34m=\u001b[0m\u001b[0mmessage_dicts\u001b[0m\u001b[0;34m,\u001b[0m \u001b[0;34m**\u001b[0m\u001b[0;34m{\u001b[0m\u001b[0;34m**\u001b[0m\u001b[0mparams\u001b[0m\u001b[0;34m,\u001b[0m \u001b[0;34m**\u001b[0m\u001b[0mkwargs\u001b[0m\u001b[0;34m}\u001b[0m\u001b[0;34m\u001b[0m\u001b[0;34m\u001b[0m\u001b[0m\n\u001b[1;32m    509\u001b[0m             )\n",
            "\u001b[0;32m/usr/local/lib/python3.10/dist-packages/groq/resources/chat/completions.py\u001b[0m in \u001b[0;36mcreate\u001b[0;34m(self, messages, model, frequency_penalty, function_call, functions, logit_bias, logprobs, max_tokens, n, parallel_tool_calls, presence_penalty, response_format, seed, stop, stream, temperature, tool_choice, tools, top_logprobs, top_p, user, extra_headers, extra_query, extra_body, timeout)\u001b[0m\n\u001b[1;32m    287\u001b[0m           \u001b[0mtimeout\u001b[0m\u001b[0;34m:\u001b[0m \u001b[0mOverride\u001b[0m \u001b[0mthe\u001b[0m \u001b[0mclient\u001b[0m\u001b[0;34m-\u001b[0m\u001b[0mlevel\u001b[0m \u001b[0mdefault\u001b[0m \u001b[0mtimeout\u001b[0m \u001b[0;32mfor\u001b[0m \u001b[0mthis\u001b[0m \u001b[0mrequest\u001b[0m\u001b[0;34m,\u001b[0m \u001b[0;32min\u001b[0m \u001b[0mseconds\u001b[0m\u001b[0;34m\u001b[0m\u001b[0;34m\u001b[0m\u001b[0m\n\u001b[1;32m    288\u001b[0m         \"\"\"\n\u001b[0;32m--> 289\u001b[0;31m         return self._post(\n\u001b[0m\u001b[1;32m    290\u001b[0m             \u001b[0;34m\"/openai/v1/chat/completions\"\u001b[0m\u001b[0;34m,\u001b[0m\u001b[0;34m\u001b[0m\u001b[0;34m\u001b[0m\u001b[0m\n\u001b[1;32m    291\u001b[0m             body=maybe_transform(\n",
            "\u001b[0;32m/usr/local/lib/python3.10/dist-packages/groq/_base_client.py\u001b[0m in \u001b[0;36mpost\u001b[0;34m(self, path, cast_to, body, options, files, stream, stream_cls)\u001b[0m\n\u001b[1;32m   1223\u001b[0m             \u001b[0mmethod\u001b[0m\u001b[0;34m=\u001b[0m\u001b[0;34m\"post\"\u001b[0m\u001b[0;34m,\u001b[0m \u001b[0murl\u001b[0m\u001b[0;34m=\u001b[0m\u001b[0mpath\u001b[0m\u001b[0;34m,\u001b[0m \u001b[0mjson_data\u001b[0m\u001b[0;34m=\u001b[0m\u001b[0mbody\u001b[0m\u001b[0;34m,\u001b[0m \u001b[0mfiles\u001b[0m\u001b[0;34m=\u001b[0m\u001b[0mto_httpx_files\u001b[0m\u001b[0;34m(\u001b[0m\u001b[0mfiles\u001b[0m\u001b[0;34m)\u001b[0m\u001b[0;34m,\u001b[0m \u001b[0;34m**\u001b[0m\u001b[0moptions\u001b[0m\u001b[0;34m\u001b[0m\u001b[0;34m\u001b[0m\u001b[0m\n\u001b[1;32m   1224\u001b[0m         )\n\u001b[0;32m-> 1225\u001b[0;31m         \u001b[0;32mreturn\u001b[0m \u001b[0mcast\u001b[0m\u001b[0;34m(\u001b[0m\u001b[0mResponseT\u001b[0m\u001b[0;34m,\u001b[0m \u001b[0mself\u001b[0m\u001b[0;34m.\u001b[0m\u001b[0mrequest\u001b[0m\u001b[0;34m(\u001b[0m\u001b[0mcast_to\u001b[0m\u001b[0;34m,\u001b[0m \u001b[0mopts\u001b[0m\u001b[0;34m,\u001b[0m \u001b[0mstream\u001b[0m\u001b[0;34m=\u001b[0m\u001b[0mstream\u001b[0m\u001b[0;34m,\u001b[0m \u001b[0mstream_cls\u001b[0m\u001b[0;34m=\u001b[0m\u001b[0mstream_cls\u001b[0m\u001b[0;34m)\u001b[0m\u001b[0;34m)\u001b[0m\u001b[0;34m\u001b[0m\u001b[0;34m\u001b[0m\u001b[0m\n\u001b[0m\u001b[1;32m   1226\u001b[0m \u001b[0;34m\u001b[0m\u001b[0m\n\u001b[1;32m   1227\u001b[0m     def patch(\n",
            "\u001b[0;32m/usr/local/lib/python3.10/dist-packages/groq/_base_client.py\u001b[0m in \u001b[0;36mrequest\u001b[0;34m(self, cast_to, options, remaining_retries, stream, stream_cls)\u001b[0m\n\u001b[1;32m    918\u001b[0m         \u001b[0mstream_cls\u001b[0m\u001b[0;34m:\u001b[0m \u001b[0mtype\u001b[0m\u001b[0;34m[\u001b[0m\u001b[0m_StreamT\u001b[0m\u001b[0;34m]\u001b[0m \u001b[0;34m|\u001b[0m \u001b[0;32mNone\u001b[0m \u001b[0;34m=\u001b[0m \u001b[0;32mNone\u001b[0m\u001b[0;34m,\u001b[0m\u001b[0;34m\u001b[0m\u001b[0;34m\u001b[0m\u001b[0m\n\u001b[1;32m    919\u001b[0m     ) -> ResponseT | _StreamT:\n\u001b[0;32m--> 920\u001b[0;31m         return self._request(\n\u001b[0m\u001b[1;32m    921\u001b[0m             \u001b[0mcast_to\u001b[0m\u001b[0;34m=\u001b[0m\u001b[0mcast_to\u001b[0m\u001b[0;34m,\u001b[0m\u001b[0;34m\u001b[0m\u001b[0;34m\u001b[0m\u001b[0m\n\u001b[1;32m    922\u001b[0m             \u001b[0moptions\u001b[0m\u001b[0;34m=\u001b[0m\u001b[0moptions\u001b[0m\u001b[0;34m,\u001b[0m\u001b[0;34m\u001b[0m\u001b[0;34m\u001b[0m\u001b[0m\n",
            "\u001b[0;32m/usr/local/lib/python3.10/dist-packages/groq/_base_client.py\u001b[0m in \u001b[0;36m_request\u001b[0;34m(self, cast_to, options, remaining_retries, stream, stream_cls)\u001b[0m\n\u001b[1;32m   1001\u001b[0m             \u001b[0;32mif\u001b[0m \u001b[0mretries\u001b[0m \u001b[0;34m>\u001b[0m \u001b[0;36m0\u001b[0m \u001b[0;32mand\u001b[0m \u001b[0mself\u001b[0m\u001b[0;34m.\u001b[0m\u001b[0m_should_retry\u001b[0m\u001b[0;34m(\u001b[0m\u001b[0merr\u001b[0m\u001b[0;34m.\u001b[0m\u001b[0mresponse\u001b[0m\u001b[0;34m)\u001b[0m\u001b[0;34m:\u001b[0m\u001b[0;34m\u001b[0m\u001b[0;34m\u001b[0m\u001b[0m\n\u001b[1;32m   1002\u001b[0m                 \u001b[0merr\u001b[0m\u001b[0;34m.\u001b[0m\u001b[0mresponse\u001b[0m\u001b[0;34m.\u001b[0m\u001b[0mclose\u001b[0m\u001b[0;34m(\u001b[0m\u001b[0;34m)\u001b[0m\u001b[0;34m\u001b[0m\u001b[0;34m\u001b[0m\u001b[0m\n\u001b[0;32m-> 1003\u001b[0;31m                 return self._retry_request(\n\u001b[0m\u001b[1;32m   1004\u001b[0m                     \u001b[0moptions\u001b[0m\u001b[0;34m,\u001b[0m\u001b[0;34m\u001b[0m\u001b[0;34m\u001b[0m\u001b[0m\n\u001b[1;32m   1005\u001b[0m                     \u001b[0mcast_to\u001b[0m\u001b[0;34m,\u001b[0m\u001b[0;34m\u001b[0m\u001b[0;34m\u001b[0m\u001b[0m\n",
            "\u001b[0;32m/usr/local/lib/python3.10/dist-packages/groq/_base_client.py\u001b[0m in \u001b[0;36m_retry_request\u001b[0;34m(self, options, cast_to, remaining_retries, response_headers, stream, stream_cls)\u001b[0m\n\u001b[1;32m   1049\u001b[0m         \u001b[0mtime\u001b[0m\u001b[0;34m.\u001b[0m\u001b[0msleep\u001b[0m\u001b[0;34m(\u001b[0m\u001b[0mtimeout\u001b[0m\u001b[0;34m)\u001b[0m\u001b[0;34m\u001b[0m\u001b[0;34m\u001b[0m\u001b[0m\n\u001b[1;32m   1050\u001b[0m \u001b[0;34m\u001b[0m\u001b[0m\n\u001b[0;32m-> 1051\u001b[0;31m         return self._request(\n\u001b[0m\u001b[1;32m   1052\u001b[0m             \u001b[0moptions\u001b[0m\u001b[0;34m=\u001b[0m\u001b[0moptions\u001b[0m\u001b[0;34m,\u001b[0m\u001b[0;34m\u001b[0m\u001b[0;34m\u001b[0m\u001b[0m\n\u001b[1;32m   1053\u001b[0m             \u001b[0mcast_to\u001b[0m\u001b[0;34m=\u001b[0m\u001b[0mcast_to\u001b[0m\u001b[0;34m,\u001b[0m\u001b[0;34m\u001b[0m\u001b[0;34m\u001b[0m\u001b[0m\n",
            "\u001b[0;32m/usr/local/lib/python3.10/dist-packages/groq/_base_client.py\u001b[0m in \u001b[0;36m_request\u001b[0;34m(self, cast_to, options, remaining_retries, stream, stream_cls)\u001b[0m\n\u001b[1;32m   1016\u001b[0m \u001b[0;34m\u001b[0m\u001b[0m\n\u001b[1;32m   1017\u001b[0m             \u001b[0mlog\u001b[0m\u001b[0;34m.\u001b[0m\u001b[0mdebug\u001b[0m\u001b[0;34m(\u001b[0m\u001b[0;34m\"Re-raising status error\"\u001b[0m\u001b[0;34m)\u001b[0m\u001b[0;34m\u001b[0m\u001b[0;34m\u001b[0m\u001b[0m\n\u001b[0;32m-> 1018\u001b[0;31m             \u001b[0;32mraise\u001b[0m \u001b[0mself\u001b[0m\u001b[0;34m.\u001b[0m\u001b[0m_make_status_error_from_response\u001b[0m\u001b[0;34m(\u001b[0m\u001b[0merr\u001b[0m\u001b[0;34m.\u001b[0m\u001b[0mresponse\u001b[0m\u001b[0;34m)\u001b[0m \u001b[0;32mfrom\u001b[0m \u001b[0;32mNone\u001b[0m\u001b[0;34m\u001b[0m\u001b[0;34m\u001b[0m\u001b[0m\n\u001b[0m\u001b[1;32m   1019\u001b[0m \u001b[0;34m\u001b[0m\u001b[0m\n\u001b[1;32m   1020\u001b[0m         return self._process_response(\n",
            "\u001b[0;31mBadRequestError\u001b[0m: Error code: 400 - {'error': {'message': \"Failed to call a function. Please adjust your prompt. See 'failed_generation' for more details.\", 'type': 'invalid_request_error', 'code': 'tool_use_failed', 'failed_generation': '<tool-use>{\"tool_calls\": [{\"id\": \"pending\", \"type\": \"function\", \"function\": {\"name\": \"get_company_info\"}, \"parameters\": {\"stock\": \"BBCA\"}}], [{\"id\": \"pending\", \"type\": \"function\", \"function\": {\"name\": \"get_company_info\"}, \"parameters\": {\"stock\": \"BREN\"}}]}</tool-use>'}}"
          ]
        }
      ]
    },
    {
      "cell_type": "code",
      "source": [],
      "metadata": {
        "id": "TytOtpKTpISH"
      },
      "execution_count": null,
      "outputs": []
    }
  ]
}