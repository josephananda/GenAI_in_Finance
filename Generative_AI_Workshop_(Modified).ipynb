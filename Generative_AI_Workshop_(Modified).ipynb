{
  "nbformat": 4,
  "nbformat_minor": 0,
  "metadata": {
    "colab": {
      "provenance": [],
      "include_colab_link": true
    },
    "kernelspec": {
      "name": "python3",
      "display_name": "Python 3"
    },
    "language_info": {
      "name": "python"
    }
  },
  "cells": [
    {
      "cell_type": "markdown",
      "metadata": {
        "id": "view-in-github",
        "colab_type": "text"
      },
      "source": [
        "<a href=\"https://colab.research.google.com/github/josephananda/GenAI_in_Finance/blob/main/Generative_AI_Workshop_(Modified).ipynb\" target=\"_parent\"><img src=\"https://colab.research.google.com/assets/colab-badge.svg\" alt=\"Open In Colab\"/></a>"
      ]
    },
    {
      "cell_type": "markdown",
      "source": [
        "Name: Joseph Ananda Sugihdharma\n",
        "\n",
        "Email: jose"
      ],
      "metadata": {
        "id": "A8riQu8LbXOn"
      }
    },
    {
      "cell_type": "code",
      "source": [
        "# Import Necessary Libraries\n",
        "!pip install langchain\n",
        "!pip install langchain-groq\n",
        "\n",
        "import os\n",
        "import json\n",
        "import requests\n",
        "from langchain_core.tools import tool\n",
        "from langchain_core.prompts import ChatPromptTemplate, MessagesPlaceholder\n",
        "from langchain_groq import ChatGroq\n",
        "from langchain.agents import create_tool_calling_agent, AgentExecutor"
      ],
      "metadata": {
        "colab": {
          "base_uri": "https://localhost:8080/"
        },
        "collapsed": true,
        "id": "i_SdqPeOZkH1",
        "outputId": "952e389b-ae7b-4b8a-c706-b23ecd746c78"
      },
      "execution_count": 1,
      "outputs": [
        {
          "output_type": "stream",
          "name": "stdout",
          "text": [
            "Collecting langchain\n",
            "  Downloading langchain-0.2.11-py3-none-any.whl.metadata (7.1 kB)\n",
            "Requirement already satisfied: PyYAML>=5.3 in /usr/local/lib/python3.10/dist-packages (from langchain) (6.0.1)\n",
            "Requirement already satisfied: SQLAlchemy<3,>=1.4 in /usr/local/lib/python3.10/dist-packages (from langchain) (2.0.31)\n",
            "Requirement already satisfied: aiohttp<4.0.0,>=3.8.3 in /usr/local/lib/python3.10/dist-packages (from langchain) (3.9.5)\n",
            "Requirement already satisfied: async-timeout<5.0.0,>=4.0.0 in /usr/local/lib/python3.10/dist-packages (from langchain) (4.0.3)\n",
            "Collecting langchain-core<0.3.0,>=0.2.23 (from langchain)\n",
            "  Downloading langchain_core-0.2.25-py3-none-any.whl.metadata (6.2 kB)\n",
            "Collecting langchain-text-splitters<0.3.0,>=0.2.0 (from langchain)\n",
            "  Downloading langchain_text_splitters-0.2.2-py3-none-any.whl.metadata (2.1 kB)\n",
            "Collecting langsmith<0.2.0,>=0.1.17 (from langchain)\n",
            "  Downloading langsmith-0.1.94-py3-none-any.whl.metadata (13 kB)\n",
            "Requirement already satisfied: numpy<2,>=1 in /usr/local/lib/python3.10/dist-packages (from langchain) (1.26.4)\n",
            "Requirement already satisfied: pydantic<3,>=1 in /usr/local/lib/python3.10/dist-packages (from langchain) (2.8.2)\n",
            "Requirement already satisfied: requests<3,>=2 in /usr/local/lib/python3.10/dist-packages (from langchain) (2.31.0)\n",
            "Collecting tenacity!=8.4.0,<9.0.0,>=8.1.0 (from langchain)\n",
            "  Downloading tenacity-8.5.0-py3-none-any.whl.metadata (1.2 kB)\n",
            "Requirement already satisfied: aiosignal>=1.1.2 in /usr/local/lib/python3.10/dist-packages (from aiohttp<4.0.0,>=3.8.3->langchain) (1.3.1)\n",
            "Requirement already satisfied: attrs>=17.3.0 in /usr/local/lib/python3.10/dist-packages (from aiohttp<4.0.0,>=3.8.3->langchain) (23.2.0)\n",
            "Requirement already satisfied: frozenlist>=1.1.1 in /usr/local/lib/python3.10/dist-packages (from aiohttp<4.0.0,>=3.8.3->langchain) (1.4.1)\n",
            "Requirement already satisfied: multidict<7.0,>=4.5 in /usr/local/lib/python3.10/dist-packages (from aiohttp<4.0.0,>=3.8.3->langchain) (6.0.5)\n",
            "Requirement already satisfied: yarl<2.0,>=1.0 in /usr/local/lib/python3.10/dist-packages (from aiohttp<4.0.0,>=3.8.3->langchain) (1.9.4)\n",
            "Collecting jsonpatch<2.0,>=1.33 (from langchain-core<0.3.0,>=0.2.23->langchain)\n",
            "  Downloading jsonpatch-1.33-py2.py3-none-any.whl.metadata (3.0 kB)\n",
            "Requirement already satisfied: packaging<25,>=23.2 in /usr/local/lib/python3.10/dist-packages (from langchain-core<0.3.0,>=0.2.23->langchain) (24.1)\n",
            "Collecting orjson<4.0.0,>=3.9.14 (from langsmith<0.2.0,>=0.1.17->langchain)\n",
            "  Downloading orjson-3.10.6-cp310-cp310-manylinux_2_17_x86_64.manylinux2014_x86_64.whl.metadata (50 kB)\n",
            "\u001b[2K     \u001b[90m━━━━━━━━━━━━━━━━━━━━━━━━━━━━━━━━━━━━━━━━\u001b[0m \u001b[32m50.4/50.4 kB\u001b[0m \u001b[31m896.0 kB/s\u001b[0m eta \u001b[36m0:00:00\u001b[0m\n",
            "\u001b[?25hRequirement already satisfied: annotated-types>=0.4.0 in /usr/local/lib/python3.10/dist-packages (from pydantic<3,>=1->langchain) (0.7.0)\n",
            "Requirement already satisfied: pydantic-core==2.20.1 in /usr/local/lib/python3.10/dist-packages (from pydantic<3,>=1->langchain) (2.20.1)\n",
            "Requirement already satisfied: typing-extensions>=4.6.1 in /usr/local/lib/python3.10/dist-packages (from pydantic<3,>=1->langchain) (4.12.2)\n",
            "Requirement already satisfied: charset-normalizer<4,>=2 in /usr/local/lib/python3.10/dist-packages (from requests<3,>=2->langchain) (3.3.2)\n",
            "Requirement already satisfied: idna<4,>=2.5 in /usr/local/lib/python3.10/dist-packages (from requests<3,>=2->langchain) (3.7)\n",
            "Requirement already satisfied: urllib3<3,>=1.21.1 in /usr/local/lib/python3.10/dist-packages (from requests<3,>=2->langchain) (2.0.7)\n",
            "Requirement already satisfied: certifi>=2017.4.17 in /usr/local/lib/python3.10/dist-packages (from requests<3,>=2->langchain) (2024.7.4)\n",
            "Requirement already satisfied: greenlet!=0.4.17 in /usr/local/lib/python3.10/dist-packages (from SQLAlchemy<3,>=1.4->langchain) (3.0.3)\n",
            "Collecting jsonpointer>=1.9 (from jsonpatch<2.0,>=1.33->langchain-core<0.3.0,>=0.2.23->langchain)\n",
            "  Downloading jsonpointer-3.0.0-py2.py3-none-any.whl.metadata (2.3 kB)\n",
            "Downloading langchain-0.2.11-py3-none-any.whl (990 kB)\n",
            "\u001b[2K   \u001b[90m━━━━━━━━━━━━━━━━━━━━━━━━━━━━━━━━━━━━━━━━\u001b[0m \u001b[32m990.3/990.3 kB\u001b[0m \u001b[31m16.7 MB/s\u001b[0m eta \u001b[36m0:00:00\u001b[0m\n",
            "\u001b[?25hDownloading langchain_core-0.2.25-py3-none-any.whl (377 kB)\n",
            "\u001b[2K   \u001b[90m━━━━━━━━━━━━━━━━━━━━━━━━━━━━━━━━━━━━━━━━\u001b[0m \u001b[32m377.6/377.6 kB\u001b[0m \u001b[31m15.4 MB/s\u001b[0m eta \u001b[36m0:00:00\u001b[0m\n",
            "\u001b[?25hDownloading langchain_text_splitters-0.2.2-py3-none-any.whl (25 kB)\n",
            "Downloading langsmith-0.1.94-py3-none-any.whl (139 kB)\n",
            "\u001b[2K   \u001b[90m━━━━━━━━━━━━━━━━━━━━━━━━━━━━━━━━━━━━━━━━\u001b[0m \u001b[32m139.9/139.9 kB\u001b[0m \u001b[31m6.9 MB/s\u001b[0m eta \u001b[36m0:00:00\u001b[0m\n",
            "\u001b[?25hDownloading tenacity-8.5.0-py3-none-any.whl (28 kB)\n",
            "Downloading jsonpatch-1.33-py2.py3-none-any.whl (12 kB)\n",
            "Downloading orjson-3.10.6-cp310-cp310-manylinux_2_17_x86_64.manylinux2014_x86_64.whl (141 kB)\n",
            "\u001b[2K   \u001b[90m━━━━━━━━━━━━━━━━━━━━━━━━━━━━━━━━━━━━━━━━\u001b[0m \u001b[32m141.1/141.1 kB\u001b[0m \u001b[31m8.7 MB/s\u001b[0m eta \u001b[36m0:00:00\u001b[0m\n",
            "\u001b[?25hDownloading jsonpointer-3.0.0-py2.py3-none-any.whl (7.6 kB)\n",
            "Installing collected packages: tenacity, orjson, jsonpointer, jsonpatch, langsmith, langchain-core, langchain-text-splitters, langchain\n",
            "  Attempting uninstall: tenacity\n",
            "    Found existing installation: tenacity 9.0.0\n",
            "    Uninstalling tenacity-9.0.0:\n",
            "      Successfully uninstalled tenacity-9.0.0\n",
            "Successfully installed jsonpatch-1.33 jsonpointer-3.0.0 langchain-0.2.11 langchain-core-0.2.25 langchain-text-splitters-0.2.2 langsmith-0.1.94 orjson-3.10.6 tenacity-8.5.0\n",
            "Collecting langchain-groq\n",
            "  Downloading langchain_groq-0.1.8-py3-none-any.whl.metadata (2.9 kB)\n",
            "Collecting groq<1,>=0.4.1 (from langchain-groq)\n",
            "  Downloading groq-0.9.0-py3-none-any.whl.metadata (13 kB)\n",
            "Requirement already satisfied: langchain-core<0.3,>=0.2.24 in /usr/local/lib/python3.10/dist-packages (from langchain-groq) (0.2.25)\n",
            "Requirement already satisfied: anyio<5,>=3.5.0 in /usr/local/lib/python3.10/dist-packages (from groq<1,>=0.4.1->langchain-groq) (3.7.1)\n",
            "Requirement already satisfied: distro<2,>=1.7.0 in /usr/lib/python3/dist-packages (from groq<1,>=0.4.1->langchain-groq) (1.7.0)\n",
            "Collecting httpx<1,>=0.23.0 (from groq<1,>=0.4.1->langchain-groq)\n",
            "  Downloading httpx-0.27.0-py3-none-any.whl.metadata (7.2 kB)\n",
            "Requirement already satisfied: pydantic<3,>=1.9.0 in /usr/local/lib/python3.10/dist-packages (from groq<1,>=0.4.1->langchain-groq) (2.8.2)\n",
            "Requirement already satisfied: sniffio in /usr/local/lib/python3.10/dist-packages (from groq<1,>=0.4.1->langchain-groq) (1.3.1)\n",
            "Requirement already satisfied: typing-extensions<5,>=4.7 in /usr/local/lib/python3.10/dist-packages (from groq<1,>=0.4.1->langchain-groq) (4.12.2)\n",
            "Requirement already satisfied: PyYAML>=5.3 in /usr/local/lib/python3.10/dist-packages (from langchain-core<0.3,>=0.2.24->langchain-groq) (6.0.1)\n",
            "Requirement already satisfied: jsonpatch<2.0,>=1.33 in /usr/local/lib/python3.10/dist-packages (from langchain-core<0.3,>=0.2.24->langchain-groq) (1.33)\n",
            "Requirement already satisfied: langsmith<0.2.0,>=0.1.75 in /usr/local/lib/python3.10/dist-packages (from langchain-core<0.3,>=0.2.24->langchain-groq) (0.1.94)\n",
            "Requirement already satisfied: packaging<25,>=23.2 in /usr/local/lib/python3.10/dist-packages (from langchain-core<0.3,>=0.2.24->langchain-groq) (24.1)\n",
            "Requirement already satisfied: tenacity!=8.4.0,<9.0.0,>=8.1.0 in /usr/local/lib/python3.10/dist-packages (from langchain-core<0.3,>=0.2.24->langchain-groq) (8.5.0)\n",
            "Requirement already satisfied: idna>=2.8 in /usr/local/lib/python3.10/dist-packages (from anyio<5,>=3.5.0->groq<1,>=0.4.1->langchain-groq) (3.7)\n",
            "Requirement already satisfied: exceptiongroup in /usr/local/lib/python3.10/dist-packages (from anyio<5,>=3.5.0->groq<1,>=0.4.1->langchain-groq) (1.2.2)\n",
            "Requirement already satisfied: certifi in /usr/local/lib/python3.10/dist-packages (from httpx<1,>=0.23.0->groq<1,>=0.4.1->langchain-groq) (2024.7.4)\n",
            "Collecting httpcore==1.* (from httpx<1,>=0.23.0->groq<1,>=0.4.1->langchain-groq)\n",
            "  Downloading httpcore-1.0.5-py3-none-any.whl.metadata (20 kB)\n",
            "Collecting h11<0.15,>=0.13 (from httpcore==1.*->httpx<1,>=0.23.0->groq<1,>=0.4.1->langchain-groq)\n",
            "  Downloading h11-0.14.0-py3-none-any.whl.metadata (8.2 kB)\n",
            "Requirement already satisfied: jsonpointer>=1.9 in /usr/local/lib/python3.10/dist-packages (from jsonpatch<2.0,>=1.33->langchain-core<0.3,>=0.2.24->langchain-groq) (3.0.0)\n",
            "Requirement already satisfied: orjson<4.0.0,>=3.9.14 in /usr/local/lib/python3.10/dist-packages (from langsmith<0.2.0,>=0.1.75->langchain-core<0.3,>=0.2.24->langchain-groq) (3.10.6)\n",
            "Requirement already satisfied: requests<3,>=2 in /usr/local/lib/python3.10/dist-packages (from langsmith<0.2.0,>=0.1.75->langchain-core<0.3,>=0.2.24->langchain-groq) (2.31.0)\n",
            "Requirement already satisfied: annotated-types>=0.4.0 in /usr/local/lib/python3.10/dist-packages (from pydantic<3,>=1.9.0->groq<1,>=0.4.1->langchain-groq) (0.7.0)\n",
            "Requirement already satisfied: pydantic-core==2.20.1 in /usr/local/lib/python3.10/dist-packages (from pydantic<3,>=1.9.0->groq<1,>=0.4.1->langchain-groq) (2.20.1)\n",
            "Requirement already satisfied: charset-normalizer<4,>=2 in /usr/local/lib/python3.10/dist-packages (from requests<3,>=2->langsmith<0.2.0,>=0.1.75->langchain-core<0.3,>=0.2.24->langchain-groq) (3.3.2)\n",
            "Requirement already satisfied: urllib3<3,>=1.21.1 in /usr/local/lib/python3.10/dist-packages (from requests<3,>=2->langsmith<0.2.0,>=0.1.75->langchain-core<0.3,>=0.2.24->langchain-groq) (2.0.7)\n",
            "Downloading langchain_groq-0.1.8-py3-none-any.whl (14 kB)\n",
            "Downloading groq-0.9.0-py3-none-any.whl (103 kB)\n",
            "\u001b[2K   \u001b[90m━━━━━━━━━━━━━━━━━━━━━━━━━━━━━━━━━━━━━━━━\u001b[0m \u001b[32m103.5/103.5 kB\u001b[0m \u001b[31m3.2 MB/s\u001b[0m eta \u001b[36m0:00:00\u001b[0m\n",
            "\u001b[?25hDownloading httpx-0.27.0-py3-none-any.whl (75 kB)\n",
            "\u001b[2K   \u001b[90m━━━━━━━━━━━━━━━━━━━━━━━━━━━━━━━━━━━━━━━━\u001b[0m \u001b[32m75.6/75.6 kB\u001b[0m \u001b[31m2.6 MB/s\u001b[0m eta \u001b[36m0:00:00\u001b[0m\n",
            "\u001b[?25hDownloading httpcore-1.0.5-py3-none-any.whl (77 kB)\n",
            "\u001b[2K   \u001b[90m━━━━━━━━━━━━━━━━━━━━━━━━━━━━━━━━━━━━━━━━\u001b[0m \u001b[32m77.9/77.9 kB\u001b[0m \u001b[31m3.8 MB/s\u001b[0m eta \u001b[36m0:00:00\u001b[0m\n",
            "\u001b[?25hDownloading h11-0.14.0-py3-none-any.whl (58 kB)\n",
            "\u001b[2K   \u001b[90m━━━━━━━━━━━━━━━━━━━━━━━━━━━━━━━━━━━━━━━━\u001b[0m \u001b[32m58.3/58.3 kB\u001b[0m \u001b[31m3.7 MB/s\u001b[0m eta \u001b[36m0:00:00\u001b[0m\n",
            "\u001b[?25hInstalling collected packages: h11, httpcore, httpx, groq, langchain-groq\n",
            "Successfully installed groq-0.9.0 h11-0.14.0 httpcore-1.0.5 httpx-0.27.0 langchain-groq-0.1.8\n"
          ]
        }
      ]
    },
    {
      "cell_type": "code",
      "execution_count": 2,
      "metadata": {
        "id": "l8hnoAwIU7s9"
      },
      "outputs": [],
      "source": [
        "# Import API Key\n",
        "from google.colab import userdata\n",
        "\n",
        "SECTORS_API_KEY = userdata.get('SECTORS_API_KEY')\n",
        "GROQ_API_KEY = userdata.get('GROQ_API_KEY')"
      ]
    },
    {
      "cell_type": "markdown",
      "source": [
        "### Warm up\n",
        "Here's a quick warm-up exercise. Below, we're using one of the [endpoints available at Sectors API](https://docs.sectors.app) to make our first HTTP request.  "
      ],
      "metadata": {
        "id": "vuLUMdjXaa-P"
      }
    },
    {
      "cell_type": "code",
      "source": [
        "# Sample Endpoint Calls\n",
        "\n",
        "import requests\n",
        "import pprint\n",
        "\n",
        "headers = {\n",
        "    \"Authorization\": SECTORS_API_KEY\n",
        "}\n",
        "\n",
        "\n",
        "def get_overview(stock:str, section:str) -> requests:\n",
        "    url = f\"https://api.sectors.app/v1/company/report/{stock}/?sections={section}\"\n",
        "    response = requests.get(url, headers=headers)\n",
        "    return response\n",
        "\n",
        "\n",
        "response = get_overview(\"BBCA\", \"financials\")\n",
        "pprint.pprint(response.json())"
      ],
      "metadata": {
        "colab": {
          "base_uri": "https://localhost:8080/"
        },
        "id": "j9SUZx-2Zhi-",
        "outputId": "d6c78dc5-6bc4-41c7-ae74-4345fe82419f"
      },
      "execution_count": 3,
      "outputs": [
        {
          "output_type": "stream",
          "name": "stdout",
          "text": [
            "{'company_name': 'PT Bank Central Asia Tbk.',\n",
            " 'financials': {'cash_flow_debt_ratio': 4.305466746529966,\n",
            "                'dar_mrq': 0.0095859653450628,\n",
            "                'der_mrq': 0.0556534961571916,\n",
            "                'historical_financials': [{'cash_and_equivalents': None,\n",
            "                                           'cash_only': None,\n",
            "                                           'current_liabilities': None,\n",
            "                                           'earnings': 25855154000000,\n",
            "                                           'earnings_before_tax': 32706064000000,\n",
            "                                           'fixed_assets': None,\n",
            "                                           'gross_profit': None,\n",
            "                                           'operating_pnl': 32512504000000,\n",
            "                                           'revenue': 63028090000000,\n",
            "                                           'tax': 6854404000000,\n",
            "                                           'total_assets': 824787944000000,\n",
            "                                           'total_cash_and_due_from_banks': 65239752000000,\n",
            "                                           'total_debt': 9375812000000,\n",
            "                                           'total_equity': 151753427000000,\n",
            "                                           'total_liabilities': 673034517000000,\n",
            "                                           'year': 2018},\n",
            "                                          {'cash_and_equivalents': None,\n",
            "                                           'cash_only': None,\n",
            "                                           'current_liabilities': None,\n",
            "                                           'earnings': 28565053000000,\n",
            "                                           'earnings_before_tax': 36288998000000,\n",
            "                                           'fixed_assets': None,\n",
            "                                           'gross_profit': None,\n",
            "                                           'operating_pnl': 36300870000000,\n",
            "                                           'revenue': 71602009000000,\n",
            "                                           'tax': 7719024000000,\n",
            "                                           'total_assets': 918989312000000,\n",
            "                                           'total_cash_and_due_from_banks': 99639894000000,\n",
            "                                           'total_debt': 11011116000000,\n",
            "                                           'total_equity': 174143156000000,\n",
            "                                           'total_liabilities': 744846156000000,\n",
            "                                           'year': 2019},\n",
            "                                          {'cash_and_equivalents': None,\n",
            "                                           'cash_only': None,\n",
            "                                           'current_liabilities': None,\n",
            "                                           'earnings': 27131109000000,\n",
            "                                           'earnings_before_tax': 33568507000000,\n",
            "                                           'fixed_assets': None,\n",
            "                                           'gross_profit': None,\n",
            "                                           'operating_pnl': 33570282000000,\n",
            "                                           'revenue': 72867812000000,\n",
            "                                           'tax': 6421398000000,\n",
            "                                           'total_assets': 1075570256000000,\n",
            "                                           'total_cash_and_due_from_banks': 90206272000000,\n",
            "                                           'total_debt': 12881754000000,\n",
            "                                           'total_equity': 184714709000000,\n",
            "                                           'total_liabilities': 890855547000000,\n",
            "                                           'year': 2020},\n",
            "                                          {'cash_and_equivalents': None,\n",
            "                                           'cash_only': None,\n",
            "                                           'current_liabilities': None,\n",
            "                                           'earnings': 31422660000000,\n",
            "                                           'earnings_before_tax': 38841174000000,\n",
            "                                           'fixed_assets': None,\n",
            "                                           'gross_profit': None,\n",
            "                                           'operating_pnl': 38921015000000,\n",
            "                                           'revenue': 78130281000000,\n",
            "                                           'tax': 7401015000000,\n",
            "                                           'total_assets': 1228344680000000,\n",
            "                                           'total_cash_and_due_from_banks': 158631551000000,\n",
            "                                           'total_debt': 12384014000000,\n",
            "                                           'total_equity': 202848934000000,\n",
            "                                           'total_liabilities': 1025495746000000,\n",
            "                                           'year': 2021},\n",
            "                                          {'cash_and_equivalents': None,\n",
            "                                           'cash_only': None,\n",
            "                                           'current_liabilities': None,\n",
            "                                           'earnings': 40735722000000,\n",
            "                                           'earnings_before_tax': 50467033000000,\n",
            "                                           'fixed_assets': None,\n",
            "                                           'gross_profit': None,\n",
            "                                           'operating_pnl': 50482669000000,\n",
            "                                           'revenue': 88981034000000,\n",
            "                                           'tax': 9711461000000,\n",
            "                                           'total_assets': 1314731674000000,\n",
            "                                           'total_cash_and_due_from_banks': 144146172000000,\n",
            "                                           'total_debt': 10298288000000,\n",
            "                                           'total_equity': 221181655000000,\n",
            "                                           'total_liabilities': 1093550019000000,\n",
            "                                           'year': 2022},\n",
            "                                          {'cash_and_equivalents': None,\n",
            "                                           'cash_only': 125135233000000,\n",
            "                                           'current_liabilities': None,\n",
            "                                           'earnings': 48639122000000,\n",
            "                                           'earnings_before_tax': 60179757000000,\n",
            "                                           'fixed_assets': None,\n",
            "                                           'gross_profit': None,\n",
            "                                           'operating_pnl': None,\n",
            "                                           'revenue': 101914664000000,\n",
            "                                           'tax': 11521662000000,\n",
            "                                           'total_assets': 1408107010000000,\n",
            "                                           'total_cash_and_due_from_banks': 115070426000000,\n",
            "                                           'total_debt': 13498065000000,\n",
            "                                           'total_equity': 242537593000000,\n",
            "                                           'total_liabilities': 1165569417000000,\n",
            "                                           'year': 2023}],\n",
            "                'interest_coverage_ratio': None,\n",
            "                'net_profit_margin': 0.4772534205676231,\n",
            "                'roa_ttm': 0.03454220570920956,\n",
            "                'roe_ttm': 0.20054261031608409,\n",
            "                'yoy_quarter_earnings_growth': 0.0371428651459504,\n",
            "                'yoy_quarter_revenue_growth': 0.0632682758756423},\n",
            " 'symbol': 'BBCA.JK'}\n"
          ]
        }
      ]
    },
    {
      "cell_type": "code",
      "source": [],
      "metadata": {
        "id": "ENAEwetYaHkO"
      },
      "execution_count": 3,
      "outputs": []
    },
    {
      "cell_type": "markdown",
      "source": [
        "### Self Assessment\n",
        "\n",
        "Complete **any one of the following two** exercises to get a certificate.\n",
        "\n"
      ],
      "metadata": {
        "id": "TzeEj1zJb646"
      }
    },
    {
      "cell_type": "markdown",
      "source": [
        "# Exercise 1\n",
        "Modify and improve the orchestration script below. Here are some things you might want to try:\n",
        "\n",
        "\n",
        "\n",
        "*   Sam says [the `llama3-groq-70b-8192-tool-use-preview`](https://console.groq.com/docs/models) is a superior model specialized in tool use and function calling tasks. It might be worth swapping in that model.\n",
        "*   Could the system prompt be improved?\n",
        "*   Could the docstring in that tool be improved?\n",
        "\n"
      ],
      "metadata": {
        "id": "XgnNBwUzxuIX"
      }
    },
    {
      "cell_type": "code",
      "source": [
        "from langchain_core.tools import tool\n",
        "\n",
        "def get_today_date() -> str:\n",
        "    \"\"\"\n",
        "    New function to get today's date (In order to improve the model understanding of dates)\n",
        "    \"\"\"\n",
        "    from datetime import date\n",
        "\n",
        "    today = date.today()\n",
        "    return today.strftime(\"%Y-%m-%d\")\n",
        "\n",
        "def retrieve_from_endpoint(url: str) -> dict:\n",
        "    headers = {\"Authorization\": SECTORS_API_KEY}\n",
        "\n",
        "    try:\n",
        "        response = requests.get(url, headers=headers)\n",
        "        response.raise_for_status()\n",
        "        data = response.json()\n",
        "    except requests.exceptions.HTTPError as err:\n",
        "        raise SystemExit(err)\n",
        "    return json.dumps(data)\n",
        "\n",
        "\n",
        "@tool\n",
        "def get_top_companies_by_tx_volume(\n",
        "    start_date: str, end_date: str, top_n: int = 5\n",
        ") -> str:\n",
        "    \"\"\"\n",
        "    Get top companies by transaction volume.\n",
        "    Return the data of stock symbol, the company name, traded volume, and the stock price of the specified date.\n",
        "    \"\"\"\n",
        "    url = f\"https://api.sectors.app/v1/most-traded/?start={start_date}&end={end_date}&n_stock={top_n}\"\n",
        "\n",
        "    return retrieve_from_endpoint(url)\n",
        "\n",
        "tools = [get_top_companies_by_tx_volume]\n",
        "# Tuned with suggested model\n",
        "llm = ChatGroq(\n",
        "    temperature=0,\n",
        "    model_name=\"llama3-groq-70b-8192-tool-use-preview\",\n",
        "    groq_api_key=GROQ_API_KEY,\n",
        ")\n",
        "\n",
        "prompt = ChatPromptTemplate.from_messages(\n",
        "    [\n",
        "        (\n",
        "            \"system\",\n",
        "            \"\"\"\n",
        "            Answer the following queries, being as factual and analytical as you can.\n",
        "            If you need the start and end dates but they are not explicitly provided,\n",
        "            infer from the query. If the volume was about a single day,\n",
        "            the start and end parameter should be the same.\n",
        "            If there's no data today since the market hasn't open today, take the data from yesterday.\n",
        "            The minimum amount of top n chosen stocks is 1.\n",
        "            Today's date is\n",
        "            \"\"\"\n",
        "            + get_today_date(),\n",
        "        ),\n",
        "        (\"human\", \"{input}\"),\n",
        "        # msg containing previous agent tool invocations and corresponding tool outputs\n",
        "        MessagesPlaceholder(\"agent_scratchpad\"),\n",
        "    ]\n",
        ")\n",
        "agent = create_tool_calling_agent(llm, tools, prompt)\n",
        "agent_executor = AgentExecutor(agent=agent, tools=tools, verbose=True)\n",
        "\n",
        "query = \"What are the top 3 companies by transaction volume over the last 7 days?\"\n",
        "result = agent_executor.invoke({\"input\": query})\n",
        "print(\"Answer:\", \"\\n\", result[\"output\"], \"\\n\\n======\\n\\n\")"
      ],
      "metadata": {
        "colab": {
          "base_uri": "https://localhost:8080/"
        },
        "id": "vB4AL8uogxcn",
        "outputId": "0192f063-faa7-4499-cdc4-111e17f09ec1"
      },
      "execution_count": 4,
      "outputs": [
        {
          "output_type": "stream",
          "name": "stdout",
          "text": [
            "\n",
            "\n",
            "\u001b[1m> Entering new AgentExecutor chain...\u001b[0m\n",
            "\u001b[32;1m\u001b[1;3m\n",
            "Invoking: `get_top_companies_by_tx_volume` with `{'start_date': '2024-07-24', 'end_date': '2024-07-31', 'top_n': 3}`\n",
            "\n",
            "\n",
            "\u001b[0m\u001b[36;1m\u001b[1;3m{\"2024-07-24\": [{\"symbol\": \"GOTO.JK\", \"company_name\": \"PT GoTo Gojek Tokopedia Tbk\", \"volume\": 2660984600, \"price\": 54}, {\"symbol\": \"BSBK.JK\", \"company_name\": \"PT Wulandari Bangun Laksana Tbk\", \"volume\": 1833364900, \"price\": 83}, {\"symbol\": \"DOOH.JK\", \"company_name\": \"PT Era Media Sejahtera Tbk\", \"volume\": 511754100, \"price\": 53}], \"2024-07-25\": [{\"symbol\": \"BSBK.JK\", \"company_name\": \"PT Wulandari Bangun Laksana Tbk\", \"volume\": 1513766400, \"price\": 76}, {\"symbol\": \"GOTO.JK\", \"company_name\": \"PT GoTo Gojek Tokopedia Tbk\", \"volume\": 911091700, \"price\": 54}, {\"symbol\": \"BBKP.JK\", \"company_name\": \"PT Bank KB Bukopin Tbk\", \"volume\": 432596400, \"price\": 56}], \"2024-07-26\": [{\"symbol\": \"BSBK.JK\", \"company_name\": \"PT Wulandari Bangun Laksana Tbk\", \"volume\": 2408506000, \"price\": 72}, {\"symbol\": \"GOTO.JK\", \"company_name\": \"PT GoTo Gojek Tokopedia Tbk\", \"volume\": 913457100, \"price\": 53}, {\"symbol\": \"MSJA.JK\", \"company_name\": \"PT Multi Spunindo Jaya Tbk.\", \"volume\": 450977300, \"price\": 342}], \"2024-07-29\": [{\"symbol\": \"GOTO.JK\", \"company_name\": \"PT GoTo Gojek Tokopedia Tbk\", \"volume\": 1621366300, \"price\": 54}, {\"symbol\": \"ATLA.JK\", \"company_name\": \"PT Atlantis Subsea Indonesia Tbk\", \"volume\": 1255103900, \"price\": 50}, {\"symbol\": \"BSBK.JK\", \"company_name\": \"PT Wulandari Bangun Laksana Tbk\", \"volume\": 754254000, \"price\": 69}], \"2024-07-30\": [{\"symbol\": \"GOTO.JK\", \"company_name\": \"PT GoTo Gojek Tokopedia Tbk\", \"volume\": 1223172300, \"price\": 55}, {\"symbol\": \"BSBK.JK\", \"company_name\": \"PT Wulandari Bangun Laksana Tbk\", \"volume\": 792338900, \"price\": 69}, {\"symbol\": \"BIPI.JK\", \"company_name\": \"PT Astrindo Nusantara Infrastruktur Tbk.\", \"volume\": 629061500, \"price\": 59}], \"2024-07-31\": [{\"symbol\": \"GOTO.JK\", \"company_name\": \"PT GoTo Gojek Tokopedia Tbk\", \"volume\": 2829429300, \"price\": 53}, {\"symbol\": \"BIPI.JK\", \"company_name\": \"PT Astrindo Nusantara Infrastruktur Tbk.\", \"volume\": 555588600, \"price\": 61}, {\"symbol\": \"BUKA.JK\", \"company_name\": \"PT Bukalapak.com Tbk\", \"volume\": 542254600, \"price\": 118}]}\u001b[0m\u001b[32;1m\u001b[1;3mThe top 3 companies by transaction volume over the last 7 days are PT GoTo Gojek Tokopedia Tbk, PT Wulandari Bangun Laksana Tbk, and PT Astrindo Nusantara Infrastruktur Tbk.\u001b[0m\n",
            "\n",
            "\u001b[1m> Finished chain.\u001b[0m\n",
            "Answer: \n",
            " The top 3 companies by transaction volume over the last 7 days are PT GoTo Gojek Tokopedia Tbk, PT Wulandari Bangun Laksana Tbk, and PT Astrindo Nusantara Infrastruktur Tbk. \n",
            "\n",
            "======\n",
            "\n",
            "\n"
          ]
        }
      ]
    },
    {
      "cell_type": "markdown",
      "source": [
        "If you'd like another level of challenge, try and apply your tool-calling LLM model on the following, arguably more challenging, queries.\n",
        "\n",
        "You need to successfully execute this exercise with these 3 queries returning correct results to be considered successful at this challenge!"
      ],
      "metadata": {
        "id": "aMeT2m5EMJM8"
      }
    },
    {
      "cell_type": "code",
      "source": [
        "queries = [\n",
        "    \"What are the top 5 companies by transaction volume on the first of this month?\",\n",
        "    \"What are the most traded stock yesterday?\",\n",
        "    \"What are the top 7 most traded stocks between 6th June to 10th June this year?\"\n",
        "]\n",
        "\n",
        "for query in queries:\n",
        "    print(\"Question:\", query)\n",
        "    result = agent_executor.invoke({\"input\": query})\n",
        "    print(\"Answer:\", \"\\n\", result[\"output\"], \"\\n\\n======\\n\\n\")"
      ],
      "metadata": {
        "id": "TWLSMUJP0BjH",
        "colab": {
          "base_uri": "https://localhost:8080/"
        },
        "outputId": "e2aafa63-4ebd-478e-c6ef-c784fe3fad5d"
      },
      "execution_count": 10,
      "outputs": [
        {
          "output_type": "stream",
          "name": "stdout",
          "text": [
            "Question: What are the top 5 companies by transaction volume on the first of this month?\n",
            "\n",
            "\n",
            "\u001b[1m> Entering new AgentExecutor chain...\u001b[0m\n",
            "\u001b[32;1m\u001b[1;3m\n",
            "Invoking: `get_top_companies_by_tx_volume` with `{'start_date': '2024-07-01', 'end_date': '2024-07-01', 'top_n': 5}`\n",
            "\n",
            "\n",
            "\u001b[0m\u001b[36;1m\u001b[1;3m{\"2024-07-01\": [{\"symbol\": \"BRPT.JK\", \"company_name\": \"Barito Pacific Tbk\", \"volume\": 468215600, \"price\": 1130}, {\"symbol\": \"GOTO.JK\", \"company_name\": \"PT GoTo Gojek Tokopedia Tbk\", \"volume\": 452005800, \"price\": 50}, {\"symbol\": \"TOSK.JK\", \"company_name\": \"PT Topindo Solusi Komunika Tbk.\", \"volume\": 442612100, \"price\": 61}, {\"symbol\": \"BULL.JK\", \"company_name\": \"PT Buana Lintas Lautan Tbk.\", \"volume\": 370373200, \"price\": 141}, {\"symbol\": \"TOPS.JK\", \"company_name\": \"PT Totalindo Eka Persada Tbk.\", \"volume\": 368219800, \"price\": 1}]}\u001b[0m\u001b[32;1m\u001b[1;3mThe top 5 companies by transaction volume on the first of this month are:\n",
            "1. Barito Pacific Tbk with a volume of 468,215,600.\n",
            "2. PT GoTo Gojek Tokopedia Tbk with a volume of 452,005,800.\n",
            "3. PT Topindo Solusi Komunika Tbk. with a volume of 442,612,100.\n",
            "4. PT Buana Lintas Lautan Tbk. with a volume of 370,373,200.\n",
            "5. PT Totalindo Eka Persada Tbk. with a volume of 368,219,800.\u001b[0m\n",
            "\n",
            "\u001b[1m> Finished chain.\u001b[0m\n",
            "Answer: \n",
            " The top 5 companies by transaction volume on the first of this month are:\n",
            "1. Barito Pacific Tbk with a volume of 468,215,600.\n",
            "2. PT GoTo Gojek Tokopedia Tbk with a volume of 452,005,800.\n",
            "3. PT Topindo Solusi Komunika Tbk. with a volume of 442,612,100.\n",
            "4. PT Buana Lintas Lautan Tbk. with a volume of 370,373,200.\n",
            "5. PT Totalindo Eka Persada Tbk. with a volume of 368,219,800. \n",
            "\n",
            "======\n",
            "\n",
            "\n",
            "Question: What are the most traded stock yesterday?\n",
            "\n",
            "\n",
            "\u001b[1m> Entering new AgentExecutor chain...\u001b[0m\n",
            "\u001b[32;1m\u001b[1;3m\n",
            "Invoking: `get_top_companies_by_tx_volume` with `{'start_date': '2024-07-30', 'end_date': '2024-07-30', 'top_n': 1}`\n",
            "\n",
            "\n",
            "\u001b[0m\u001b[36;1m\u001b[1;3m{\"2024-07-30\": [{\"symbol\": \"GOTO.JK\", \"company_name\": \"PT GoTo Gojek Tokopedia Tbk\", \"volume\": 1223172300, \"price\": 55}]}\u001b[0m\u001b[32;1m\u001b[1;3mThe most traded stock yesterday was PT GoTo Gojek Tokopedia Tbk with a volume of 1,223,172,300.\u001b[0m\n",
            "\n",
            "\u001b[1m> Finished chain.\u001b[0m\n",
            "Answer: \n",
            " The most traded stock yesterday was PT GoTo Gojek Tokopedia Tbk with a volume of 1,223,172,300. \n",
            "\n",
            "======\n",
            "\n",
            "\n",
            "Question: What are the top 7 most traded stocks between 6th June to 10th June this year?\n",
            "\n",
            "\n",
            "\u001b[1m> Entering new AgentExecutor chain...\u001b[0m\n",
            "\u001b[32;1m\u001b[1;3m\n",
            "Invoking: `get_top_companies_by_tx_volume` with `{'start_date': '2024-06-06', 'end_date': '2024-06-10', 'top_n': 7}`\n",
            "\n",
            "\n",
            "\u001b[0m\u001b[36;1m\u001b[1;3m{\"2024-06-06\": [{\"symbol\": \"GOTO.JK\", \"company_name\": \"PT GoTo Gojek Tokopedia Tbk\", \"volume\": 3653448500, \"price\": 60}, {\"symbol\": \"FREN.JK\", \"company_name\": \"PT Smartfren Telecom Tbk\", \"volume\": 980937300, \"price\": 31}, {\"symbol\": \"ATLA.JK\", \"company_name\": \"PT Atlantis Subsea Indonesia Tbk\", \"volume\": 794872900, \"price\": 60}, {\"symbol\": \"DOOH.JK\", \"company_name\": \"PT Era Media Sejahtera Tbk\", \"volume\": 338662100, \"price\": 52}, {\"symbol\": \"BULL.JK\", \"company_name\": \"PT Buana Lintas Lautan Tbk.\", \"volume\": 290012800, \"price\": 149}, {\"symbol\": \"BBRI.JK\", \"company_name\": \"PT Bank Rakyat Indonesia (Persero) Tbk\", \"volume\": 281534200, \"price\": 4500}, {\"symbol\": \"BBKP.JK\", \"company_name\": \"PT Bank KB Bukopin Tbk\", \"volume\": 261967100, \"price\": 50}], \"2024-06-07\": [{\"symbol\": \"GOTO.JK\", \"company_name\": \"PT GoTo Gojek Tokopedia Tbk\", \"volume\": 2112800200, \"price\": 58}, {\"symbol\": \"ATLA.JK\", \"company_name\": \"PT Atlantis Subsea Indonesia Tbk\", \"volume\": 941288500, \"price\": 50}, {\"symbol\": \"FREN.JK\", \"company_name\": \"PT Smartfren Telecom Tbk\", \"volume\": 405384900, \"price\": 28}, {\"symbol\": \"BBRI.JK\", \"company_name\": \"PT Bank Rakyat Indonesia (Persero) Tbk\", \"volume\": 375439600, \"price\": 4350}, {\"symbol\": \"BULL.JK\", \"company_name\": \"PT Buana Lintas Lautan Tbk.\", \"volume\": 334265100, \"price\": 149}, {\"symbol\": \"DOOH.JK\", \"company_name\": \"PT Era Media Sejahtera Tbk\", \"volume\": 319557600, \"price\": 52}, {\"symbol\": \"TOSK.JK\", \"company_name\": \"PT Topindo Solusi Komunika Tbk.\", \"volume\": 251676200, \"price\": 60}], \"2024-06-10\": [{\"symbol\": \"GOTO.JK\", \"company_name\": \"PT GoTo Gojek Tokopedia Tbk\", \"volume\": 12293676100, \"price\": 56}, {\"symbol\": \"BATR.JK\", \"company_name\": \"PT Benteng Api Technic Tbk\", \"volume\": 1294170600, \"price\": 120}, {\"symbol\": \"DOOH.JK\", \"company_name\": \"PT Era Media Sejahtera Tbk\", \"volume\": 452562200, \"price\": 52}, {\"symbol\": \"BUMI.JK\", \"company_name\": \"Bumi Resources Tbk\", \"volume\": 401891900, \"price\": 77}, {\"symbol\": \"BULL.JK\", \"company_name\": \"PT Buana Lintas Lautan Tbk.\", \"volume\": 347866100, \"price\": 126}, {\"symbol\": \"BRPT.JK\", \"company_name\": \"Barito Pacific Tbk\", \"volume\": 345437900, \"price\": 1035}, {\"symbol\": \"BSBK.JK\", \"company_name\": \"PT Wulandari Bangun Laksana Tbk\", \"volume\": 297808500, \"price\": 54}]}\u001b[0m\u001b[32;1m\u001b[1;3mThe top 7 most traded stocks between 6th June to 10th June this year are as follows:\n",
            "\n",
            "1. PT GoTo Gojek Tokopedia Tbk (Symbol: GOTO.JK) with a volume of 12,293,676,100.\n",
            "2. PT Benteng Api Technic Tbk (Symbol: BATR.JK) with a volume of 1,294,176,600.\n",
            "3. PT Era Media Sejahtera Tbk (Symbol: DOOH.JK) with a volume of 452,562,200.\n",
            "4. Bumi Resources Tbk (Symbol: BUMI.JK) with a volume of 401,891,900.\n",
            "5. PT Buana Lintas Lautan Tbk. (Symbol: BULL.JK) with a volume of 347,866,100.\n",
            "6. Barito Pacific Tbk (Symbol: BRPT.JK) with a volume of 345,437,900.\n",
            "7. PT Wulandari Bangun Laksana Tbk (Symbol: BSBK.JK) with a volume of 297,808,500.\u001b[0m\n",
            "\n",
            "\u001b[1m> Finished chain.\u001b[0m\n",
            "Answer: \n",
            " The top 7 most traded stocks between 6th June to 10th June this year are as follows:\n",
            "\n",
            "1. PT GoTo Gojek Tokopedia Tbk (Symbol: GOTO.JK) with a volume of 12,293,676,100.\n",
            "2. PT Benteng Api Technic Tbk (Symbol: BATR.JK) with a volume of 1,294,176,600.\n",
            "3. PT Era Media Sejahtera Tbk (Symbol: DOOH.JK) with a volume of 452,562,200.\n",
            "4. Bumi Resources Tbk (Symbol: BUMI.JK) with a volume of 401,891,900.\n",
            "5. PT Buana Lintas Lautan Tbk. (Symbol: BULL.JK) with a volume of 347,866,100.\n",
            "6. Barito Pacific Tbk (Symbol: BRPT.JK) with a volume of 345,437,900.\n",
            "7. PT Wulandari Bangun Laksana Tbk (Symbol: BSBK.JK) with a volume of 297,808,500. \n",
            "\n",
            "======\n",
            "\n",
            "\n"
          ]
        }
      ]
    },
    {
      "cell_type": "markdown",
      "source": [
        "VALIDATION\n",
        "\n",
        "The model above need to be validated to know whether the response is valid and not hallucinating."
      ],
      "metadata": {
        "id": "MQBvPHTrko6a"
      }
    },
    {
      "cell_type": "code",
      "source": [
        "# QUERY 1\n",
        "# \"What are the top 5 companies by transaction volume on the first of this month?\" (Current Date: 31 Jul 2024)\n",
        "url = \"https://api.sectors.app/v1/most-traded/\"\n",
        "querystring = {\"start\":\"2024-07-01\",\"end\":\"2024-07-01\",\"n_stock\":5}\n",
        "response = requests.request(\"GET\", url, headers=headers, params=querystring)\n",
        "print(response.text)"
      ],
      "metadata": {
        "colab": {
          "base_uri": "https://localhost:8080/"
        },
        "id": "UrnnW569kvTv",
        "outputId": "0c6fddee-5659-4232-edb1-dd593e7c5959"
      },
      "execution_count": 6,
      "outputs": [
        {
          "output_type": "stream",
          "name": "stdout",
          "text": [
            "{\"2024-07-01\":[{\"symbol\":\"BRPT.JK\",\"company_name\":\"Barito Pacific Tbk\",\"volume\":468215600,\"price\":1130},{\"symbol\":\"GOTO.JK\",\"company_name\":\"PT GoTo Gojek Tokopedia Tbk\",\"volume\":452005800,\"price\":50},{\"symbol\":\"TOSK.JK\",\"company_name\":\"PT Topindo Solusi Komunika Tbk.\",\"volume\":442612100,\"price\":61},{\"symbol\":\"BULL.JK\",\"company_name\":\"PT Buana Lintas Lautan Tbk.\",\"volume\":370373200,\"price\":141},{\"symbol\":\"TOPS.JK\",\"company_name\":\"PT Totalindo Eka Persada Tbk.\",\"volume\":368219800,\"price\":1}]}\n"
          ]
        }
      ]
    },
    {
      "cell_type": "code",
      "source": [
        "# QUERY 2\n",
        "# \"What are the most traded stock yesterday?\" (Current Date: 31 Jul 2024)\n",
        "url = \"https://api.sectors.app/v1/most-traded/\"\n",
        "querystring = {\"start\":\"2024-07-30\",\"end\":\"2024-07-30\",\"n_stock\":5}\n",
        "response = requests.request(\"GET\", url, headers=headers, params=querystring)\n",
        "print(response.text)"
      ],
      "metadata": {
        "id": "w2VFX3W6mK4a",
        "colab": {
          "base_uri": "https://localhost:8080/"
        },
        "outputId": "6502d127-1052-4e56-be0d-4dd5ebf92e0a"
      },
      "execution_count": 7,
      "outputs": [
        {
          "output_type": "stream",
          "name": "stdout",
          "text": [
            "{\"2024-07-30\":[{\"symbol\":\"GOTO.JK\",\"company_name\":\"PT GoTo Gojek Tokopedia Tbk\",\"volume\":1223172300,\"price\":55},{\"symbol\":\"BSBK.JK\",\"company_name\":\"PT Wulandari Bangun Laksana Tbk\",\"volume\":792338900,\"price\":69},{\"symbol\":\"BIPI.JK\",\"company_name\":\"PT Astrindo Nusantara Infrastruktur Tbk.\",\"volume\":629061500,\"price\":59},{\"symbol\":\"ATLA.JK\",\"company_name\":\"PT Atlantis Subsea Indonesia Tbk\",\"volume\":411864600,\"price\":50},{\"symbol\":\"DOOH.JK\",\"company_name\":\"PT Era Media Sejahtera Tbk\",\"volume\":407522900,\"price\":51}]}\n"
          ]
        }
      ]
    },
    {
      "cell_type": "code",
      "source": [
        "# QUERY 3\n",
        "# \"What are the top 7 most traded stocks between 6th June to 10th June this year?\" (Current Date: 31 Jul 2024)\n",
        "url = \"https://api.sectors.app/v1/most-traded/\"\n",
        "querystring = {\"start\":\"2024-06-06\",\"end\":\"2024-06-10\",\"n_stock\":7}\n",
        "response = requests.request(\"GET\", url, headers=headers, params=querystring)\n",
        "print(response.text)"
      ],
      "metadata": {
        "id": "zkdzT7vnmib2",
        "colab": {
          "base_uri": "https://localhost:8080/"
        },
        "outputId": "4ebb8d74-265c-401b-fb4b-8e3d42c57095"
      },
      "execution_count": 8,
      "outputs": [
        {
          "output_type": "stream",
          "name": "stdout",
          "text": [
            "{\"2024-06-06\":[{\"symbol\":\"GOTO.JK\",\"company_name\":\"PT GoTo Gojek Tokopedia Tbk\",\"volume\":3653448500,\"price\":60},{\"symbol\":\"FREN.JK\",\"company_name\":\"PT Smartfren Telecom Tbk\",\"volume\":980937300,\"price\":31},{\"symbol\":\"ATLA.JK\",\"company_name\":\"PT Atlantis Subsea Indonesia Tbk\",\"volume\":794872900,\"price\":60},{\"symbol\":\"DOOH.JK\",\"company_name\":\"PT Era Media Sejahtera Tbk\",\"volume\":338662100,\"price\":52},{\"symbol\":\"BULL.JK\",\"company_name\":\"PT Buana Lintas Lautan Tbk.\",\"volume\":290012800,\"price\":149},{\"symbol\":\"BBRI.JK\",\"company_name\":\"PT Bank Rakyat Indonesia (Persero) Tbk\",\"volume\":281534200,\"price\":4500},{\"symbol\":\"BBKP.JK\",\"company_name\":\"PT Bank KB Bukopin Tbk\",\"volume\":261967100,\"price\":50}],\"2024-06-07\":[{\"symbol\":\"GOTO.JK\",\"company_name\":\"PT GoTo Gojek Tokopedia Tbk\",\"volume\":2112800200,\"price\":58},{\"symbol\":\"ATLA.JK\",\"company_name\":\"PT Atlantis Subsea Indonesia Tbk\",\"volume\":941288500,\"price\":50},{\"symbol\":\"FREN.JK\",\"company_name\":\"PT Smartfren Telecom Tbk\",\"volume\":405384900,\"price\":28},{\"symbol\":\"BBRI.JK\",\"company_name\":\"PT Bank Rakyat Indonesia (Persero) Tbk\",\"volume\":375439600,\"price\":4350},{\"symbol\":\"BULL.JK\",\"company_name\":\"PT Buana Lintas Lautan Tbk.\",\"volume\":334265100,\"price\":149},{\"symbol\":\"DOOH.JK\",\"company_name\":\"PT Era Media Sejahtera Tbk\",\"volume\":319557600,\"price\":52},{\"symbol\":\"TOSK.JK\",\"company_name\":\"PT Topindo Solusi Komunika Tbk.\",\"volume\":251676200,\"price\":60}],\"2024-06-10\":[{\"symbol\":\"GOTO.JK\",\"company_name\":\"PT GoTo Gojek Tokopedia Tbk\",\"volume\":12293676100,\"price\":56},{\"symbol\":\"BATR.JK\",\"company_name\":\"PT Benteng Api Technic Tbk\",\"volume\":1294170600,\"price\":120},{\"symbol\":\"DOOH.JK\",\"company_name\":\"PT Era Media Sejahtera Tbk\",\"volume\":452562200,\"price\":52},{\"symbol\":\"BUMI.JK\",\"company_name\":\"Bumi Resources Tbk\",\"volume\":401891900,\"price\":77},{\"symbol\":\"BULL.JK\",\"company_name\":\"PT Buana Lintas Lautan Tbk.\",\"volume\":347866100,\"price\":126},{\"symbol\":\"BRPT.JK\",\"company_name\":\"Barito Pacific Tbk\",\"volume\":345437900,\"price\":1035},{\"symbol\":\"BSBK.JK\",\"company_name\":\"PT Wulandari Bangun Laksana Tbk\",\"volume\":297808500,\"price\":54}]}\n"
          ]
        }
      ]
    },
    {
      "cell_type": "code",
      "source": [
        "# Exercise 1\n",
        "# Ran and Finished July 31st 2024\n",
        "# Since I run it in midnight of August 1st, which might overlap with the instruction of query 1 (on the other side, the market hasn't opened yet, so I modified the system prompt to refer yesterday's date if market hasn't opened yet)"
      ],
      "metadata": {
        "id": "tFwb4sxArIP7"
      },
      "execution_count": 9,
      "outputs": []
    },
    {
      "cell_type": "markdown",
      "source": [
        "# Exercise 2\n",
        "\n",
        "Our users have been using our tool and having a lot of success with it. It is now time to take it one step further: by collecting user's feedback!\n",
        "\n",
        "Here are the sample queries that performed sub-optimally according to user feedback:\n",
        "\n",
        "\n",
        "*   What is the performance of GOTO (symbol: GOTO) since its IPO listing?\n",
        "*   If i had invested into GOTO vs BREN on their respective IPO listing date, which one would have given me a better return over a 90 day horizon?\"\n",
        "\n",
        "Clearly, it's time to expand the tools that our language model has access to. For the second exercise, you'd be implementing **an additional** tool directly into the orchestrator to give your financial AI model a direct pathway to answering questions relating to stock performance since their listing date.\n",
        "\n",
        "\n",
        "> You may have to [refer to Sectors API Documentation](https://docs.sectors.app) for a list of endpoints and pick the one most suitable for the job.\n",
        "\n",
        "To help you get started, I've also added two new tools. Use them as a base reference! If you proceed to run the exercise without adding the right tool(s), `query_4` and `query_5` is most likely going to fail or cause the LLM to answer incorrectly."
      ],
      "metadata": {
        "id": "Ih2yJHQyWZkg"
      }
    },
    {
      "cell_type": "code",
      "source": [
        "@tool\n",
        "def get_company_overview(stock: str) -> str:\n",
        "    \"\"\"\n",
        "    Get company overview\n",
        "    \"\"\"\n",
        "    url = f\"https://api.sectors.app/v1/company/report/{stock}/?sections=overview\"\n",
        "\n",
        "    return retrieve_from_endpoint(url)\n",
        "\n",
        "\n",
        "@tool\n",
        "def get_daily_tx(stock: str, start_date: str, end_date: str) -> str:\n",
        "    \"\"\"\n",
        "    Get daily transaction for a stock\n",
        "    \"\"\"\n",
        "    url = f\"https://api.sectors.app/v1/daily/{stock}/?start={start_date}&end={end_date}\"\n",
        "\n",
        "    return retrieve_from_endpoint(url)\n",
        "\n",
        "\n",
        "tools = [\n",
        "    get_company_overview,\n",
        "    # we created this in the earlier code chunk under Exercise 1\n",
        "    # (so make sure you've run that cell),\n",
        "    get_top_companies_by_tx_volume,\n",
        "    get_daily_tx,\n",
        "]\n",
        "\n",
        "query_1 = \"What are the top 3 companies by transaction volume over the last 7 days?\"\n",
        "query_2 = \"Based on the closing prices of BBCA between 1st and 30th of June 2024, are we seeing an uptrend or downtrend? Try to explain why.\"\n",
        "query_3 = \"What is the company with the largest market cap between BBCA and BREN? For said company, retrieve the email, phone number, listing date and website for further research.\"\n",
        "query_4 = \"What is the performance of GOTO (symbol: GOTO) since its IPO listing?\"\n",
        "query_5 = \"If i had invested into GOTO vs BREN on their respective IPO listing date, which one would have given me a better return over a 90 day horizon?\"\n",
        "\n",
        "queries = [query_1, query_2, query_3, query_4, query_5]\n",
        "\n",
        "llm = ChatGroq(\n",
        "    temperature=0,\n",
        "    model_name=\"llama3-70b-8192\",\n",
        "    groq_api_key=GROQ_API_KEY,\n",
        ")\n",
        "\n",
        "prompt = ChatPromptTemplate.from_messages(\n",
        "    [\n",
        "        (\n",
        "            \"system\",\n",
        "            \"Answer the following queries, as if you are a financial robo-advisor.\",\n",
        "        ),\n",
        "        (\"human\", \"{input}\"),\n",
        "        # msg containing previous agent tool invocations and corresponding tool outputs\n",
        "        MessagesPlaceholder(\"agent_scratchpad\"),\n",
        "    ]\n",
        ")\n",
        "\n",
        "for query in queries:\n",
        "    print(\"Question:\", query)\n",
        "    result = agent_executor.invoke({\"input\": query})\n",
        "    print(\"Answer:\", \"\\n\", result[\"output\"], \"\\n\\n======\\n\\n\")"
      ],
      "metadata": {
        "id": "WUg0tAzBAwNy"
      },
      "execution_count": null,
      "outputs": []
    }
  ]
}